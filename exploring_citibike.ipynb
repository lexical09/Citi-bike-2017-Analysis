{
 "cells": [
  {
   "cell_type": "markdown",
   "metadata": {},
   "source": [
    "# Exploring NYC's CitiBike data"
   ]
  },
  {
   "cell_type": "markdown",
   "metadata": {},
   "source": [
    "## Table of Contents\n",
    "* [Introduction](#Introduction)\n",
    "* [Methods](#Methods)\n",
    "* [Getting the data](#Getting_the_data)\n",
    "* [Analysis](#Analysis)\n",
    " "
   ]
  },
  {
   "cell_type": "markdown",
   "metadata": {},
   "source": [
    "Questions to answer: \n",
    "    1. Top 5 stations with the most starts (showing # of starts)\n",
    "    2. Trip duration by user type\n",
    "    3. Most popular trips based on start station and stop station)\n",
    "    4. Rider performance by Gender and Age based on avg trip distance (station to station), \n",
    "       median speed (trip duration / distance traveled)\n",
    "    5. What is the busiest bike in NYC in 2017? How many times was it used? How many minutes was it in use?\n",
    "    6. A model that can predict how long a trip will take given a starting point and destination. \n"
   ]
  },
  {
   "cell_type": "markdown",
   "metadata": {},
   "source": [
    "<a id='Introduction'></a>\n",
    "## Introduction\n",
    "\n",
    "CitiBike's data sharing information can be found at their [System Data website](https://www.citibikenyc.com/system-data). They provide information about the data set, such as included variables and their description. The data have been pre-cleaned before uploading, for example by removing trips taken by staff and any trips below 60 seconds in length. This means the data should be ready to use with no need for additional cleaning.\n",
    "\n",
    "The data are organized in monthly subsets (each in its own '.csv' file) and are available since July 2013, soon after citibike service started, up until September 2018. Using data from one whole year is probably the most appropriate, as there may be yearly patterns. Also, this will provide a good amount of observations, enough for most analysis we may want to do. For this exercise I will thus use all 2017 data, as this is the only full year available so far.\n",
    "\n",
    "The data are hosted on and can be downloaded from Amazon Simple Storage Service (Amazon S3)."
   ]
  },
  {
   "cell_type": "markdown",
   "metadata": {},
   "source": [
    "<a id='Methods'></a>\n",
    "## Methods\n",
    "\n",
    "This data analysis was made on a MacBook Pro laptop. Besides the shell (Bash), I used the following tools in [Python](https://www.python.org/):\n",
    "\n",
    "* [Pandas](http://pandas.pydata.org/) for data manipulation.\n",
    "* [Folium](http://folium.readthedocs.org/en/latest/) for mapping.\n"
   ]
  },
  {
   "cell_type": "markdown",
   "metadata": {},
   "source": [
    "<a id='Getting_the_data'></a>\n",
    "## Getting the data\n",
    "\n",
    "I will use the shell (bash in this case) to get the data. Download the files using `curl` and then unzip them and remove the zipped versions."
   ]
  },
  {
   "cell_type": "code",
   "execution_count": 49,
   "metadata": {},
   "outputs": [
    {
     "name": "stdout",
     "output_type": "stream",
     "text": [
      "\n",
      "[1/12]: https://s3.amazonaws.com/tripdata/201701-citibike-tripdata.csv.zip --> 201701-citibike-tripdata.csv.zip\n",
      "--_curl_--https://s3.amazonaws.com/tripdata/201701-citibike-tripdata.csv.zip\n",
      "  % Total    % Received % Xferd  Average Speed   Time    Time     Time  Current\n",
      "                                 Dload  Upload   Total   Spent    Left  Speed\n",
      "100 23.1M  100 23.1M    0     0  14.4M      0  0:00:01  0:00:01 --:--:-- 14.4M\n",
      "\n",
      "[2/12]: https://s3.amazonaws.com/tripdata/201702-citibike-tripdata.csv.zip --> 201702-citibike-tripdata.csv.zip\n",
      "--_curl_--https://s3.amazonaws.com/tripdata/201702-citibike-tripdata.csv.zip\n",
      "100 25.1M  100 25.1M    0     0  18.5M      0  0:00:01  0:00:01 --:--:-- 21.4M\n",
      "\n",
      "[3/12]: https://s3.amazonaws.com/tripdata/201703-citibike-tripdata.csv.zip --> 201703-citibike-tripdata.csv.zip\n",
      "--_curl_--https://s3.amazonaws.com/tripdata/201703-citibike-tripdata.csv.zip\n",
      "100 23.0M  100 23.0M    0     0  18.1M      0  0:00:01  0:00:01 --:--:-- 20.2M\n",
      "\n",
      "[4/12]: https://s3.amazonaws.com/tripdata/201704-citibike-tripdata.csv.zip --> 201704-citibike-tripdata.csv.zip\n",
      "--_curl_--https://s3.amazonaws.com/tripdata/201704-citibike-tripdata.csv.zip\n",
      "100 42.9M  100 42.9M    0     0  19.0M      0  0:00:02  0:00:02 --:--:-- 19.9M\n",
      "\n",
      "[5/12]: https://s3.amazonaws.com/tripdata/201705-citibike-tripdata.csv.zip --> 201705-citibike-tripdata.csv.zip\n",
      "--_curl_--https://s3.amazonaws.com/tripdata/201705-citibike-tripdata.csv.zip\n",
      "100 50.2M  100 50.2M    0     0  18.3M      0  0:00:02  0:00:02 --:--:-- 19.5M\n",
      "\n",
      "[6/12]: https://s3.amazonaws.com/tripdata/201706-citibike-tripdata.csv.zip --> 201706-citibike-tripdata.csv.zip\n",
      "--_curl_--https://s3.amazonaws.com/tripdata/201706-citibike-tripdata.csv.zip\n",
      "100 57.5M  100 57.5M    0     0  19.8M      0  0:00:02  0:00:02 --:--:-- 20.8M\n",
      "\n",
      "[7/12]: https://s3.amazonaws.com/tripdata/201707-citibike-tripdata.csv.zip --> 201707-citibike-tripdata.csv.zip\n",
      "--_curl_--https://s3.amazonaws.com/tripdata/201707-citibike-tripdata.csv.zip\n",
      "100 57.7M  100 57.7M    0     0  12.6M      0  0:00:04  0:00:04 --:--:-- 12.9M\n",
      "\n",
      "[8/12]: https://s3.amazonaws.com/tripdata/201708-citibike-tripdata.csv.zip --> 201708-citibike-tripdata.csv.zip\n",
      "--_curl_--https://s3.amazonaws.com/tripdata/201708-citibike-tripdata.csv.zip\n",
      "100 60.3M  100 60.3M    0     0  19.5M      0  0:00:03  0:00:03 --:--:-- 20.1M\n",
      "\n",
      "[9/12]: https://s3.amazonaws.com/tripdata/201709-citibike-tripdata.csv.zip --> 201709-citibike-tripdata.csv.zip\n",
      "--_curl_--https://s3.amazonaws.com/tripdata/201709-citibike-tripdata.csv.zip\n",
      "100 62.8M  100 62.8M    0     0  19.4M      0  0:00:03  0:00:03 --:--:-- 21.0M\n",
      "\n",
      "[10/12]: https://s3.amazonaws.com/tripdata/201710-citibike-tripdata.csv.zip --> 201710-citibike-tripdata.csv.zip\n",
      "--_curl_--https://s3.amazonaws.com/tripdata/201710-citibike-tripdata.csv.zip\n",
      "100 64.4M  100 64.4M    0     0  19.0M      0  0:00:03  0:00:03 --:--:-- 20.3M\n",
      "\n",
      "[11/12]: https://s3.amazonaws.com/tripdata/201711-citibike-tripdata.csv.zip --> 201711-citibike-tripdata.csv.zip\n",
      "--_curl_--https://s3.amazonaws.com/tripdata/201711-citibike-tripdata.csv.zip\n",
      "100 45.5M  100 45.5M    0     0  20.6M      0  0:00:02  0:00:02 --:--:-- 21.7M\n",
      "\n",
      "[12/12]: https://s3.amazonaws.com/tripdata/201712-citibike-tripdata.csv.zip --> 201712-citibike-tripdata.csv.zip\n",
      "--_curl_--https://s3.amazonaws.com/tripdata/201712-citibike-tripdata.csv.zip\n",
      "100 30.6M  100 30.6M    0     0  20.1M      0  0:00:01  0:00:01 --:--:-- 22.2M\n",
      "Archive:  201708-citibike-tripdata.csv.zip\n",
      "  inflating: 201708-citibike-tripdata.csv  \n",
      "\n",
      "Archive:  201712-citibike-tripdata.csv.zip\n",
      "  inflating: 201712-citibike-tripdata.csv  \n",
      "\n",
      "Archive:  201707-citibike-tripdata.csv.zip\n",
      "  inflating: 201707-citibike-tripdata.csv  \n",
      "\n",
      "Archive:  201702-citibike-tripdata.csv.zip\n",
      "  inflating: 201702-citibike-tripdata.csv  \n",
      "\n",
      "Archive:  201710-citibike-tripdata.csv.zip\n",
      "  inflating: 201710-citibike-tripdata.csv  \n",
      "\n",
      "Archive:  201705-citibike-tripdata.csv.zip\n",
      "  inflating: 201705-citibike-tripdata.csv  \n",
      "\n",
      "Archive:  201704-citibike-tripdata.csv.zip\n",
      "  inflating: 201704-citibike-tripdata.csv  \n",
      "\n",
      "Archive:  201711-citibike-tripdata.csv.zip\n",
      "  inflating: 201711-citibike-tripdata.csv  \n",
      "\n",
      "Archive:  201703-citibike-tripdata.csv.zip\n",
      "  inflating: 201703-citibike-tripdata.csv  \n",
      "\n",
      "Archive:  201706-citibike-tripdata.csv.zip\n",
      "  inflating: 201706-citibike-tripdata.csv  \n",
      "\n",
      "Archive:  201709-citibike-tripdata.csv.zip\n",
      "  inflating: 201709-citibike-tripdata.csv  \n",
      "\n",
      "Archive:  201701-citibike-tripdata.csv.zip\n",
      "  inflating: 201701-citibike-tripdata.csv  \n",
      "\n",
      "12 archives were successfully processed.\n"
     ]
    }
   ],
   "source": [
    "# Add `!` preceding the command to run shell commands\n",
    "# Curl accepts ranges\n",
    "!curl -O \"https://s3.amazonaws.com/tripdata/2017[01-12]-citibike-tripdata.csv.zip\"\n",
    "!unzip '*.zip'\n",
    "!rm *.zip"
   ]
  },
  {
   "cell_type": "markdown",
   "metadata": {},
   "source": [
    "The next step is to load the data with Pandas. I will use a `for loop` to read all 12 csv files into a list of Pandas *DataFrames*."
   ]
  },
  {
   "cell_type": "code",
   "execution_count": 50,
   "metadata": {},
   "outputs": [
    {
     "name": "stdout",
     "output_type": "stream",
     "text": [
      "['201709-citibike-tripdata.csv', '201701-citibike-tripdata.csv', '201703-citibike-tripdata.csv', '201705-citibike-tripdata.csv', '201711-citibike-tripdata.csv', '201707-citibike-tripdata.csv', '201708-citibike-tripdata.csv', '201702-citibike-tripdata.csv', '201704-citibike-tripdata.csv', '201712-citibike-tripdata.csv', '201706-citibike-tripdata.csv', '201710-citibike-tripdata.csv']\n"
     ]
    }
   ],
   "source": [
    "# Get file names\n",
    "import glob\n",
    "filenames = glob.glob('*.csv')\n",
    "print(filenames)"
   ]
  },
  {
   "cell_type": "markdown",
   "metadata": {},
   "source": [
    "The below code will:\n",
    "* Loop through each data file we downloaded.\n",
    "* Read the file into a Pandas DataFrame.\n",
    "* Put each DataFrame into a Python dictionary."
   ]
  },
  {
   "cell_type": "code",
   "execution_count": 75,
   "metadata": {},
   "outputs": [
    {
     "name": "stdout",
     "output_type": "stream",
     "text": [
      "Reading 201709-citibike-tripdata.csv\n",
      "Reading 201701-citibike-tripdata.csv\n",
      "Reading 201703-citibike-tripdata.csv\n",
      "Reading 201705-citibike-tripdata.csv\n",
      "Reading 201711-citibike-tripdata.csv\n",
      "Reading 201707-citibike-tripdata.csv\n",
      "Reading 201708-citibike-tripdata.csv\n",
      "Reading 201702-citibike-tripdata.csv\n",
      "Reading 201704-citibike-tripdata.csv\n",
      "Reading 201712-citibike-tripdata.csv\n",
      "Reading 201706-citibike-tripdata.csv\n",
      "Reading 201710-citibike-tripdata.csv\n"
     ]
    }
   ],
   "source": [
    "import pandas as pd\n",
    "# Loop through file names and read the data\n",
    "dfs = []\n",
    "for f in filenames:\n",
    "    print('Reading ' + f)\n",
    "    #d = pd.read_csv(f)\n",
    "    #dfs[f.replace('-citibike-tripdata.csv', '')] = d\n",
    "    dfs.append(pd.read_csv(f))"
   ]
  },
  {
   "cell_type": "markdown",
   "metadata": {},
   "source": [
    "Once we've read the data in, we can use the head method on DataFrames to print the first 3 lines and number of entries and columnnames of each DataFrame :"
   ]
  },
  {
   "cell_type": "code",
   "execution_count": 78,
   "metadata": {},
   "outputs": [
    {
     "name": "stdout",
     "output_type": "stream",
     "text": [
      "\n",
      "*Reading dataframe  0\n",
      "   tripduration            starttime             stoptime  start station id  \\\n",
      "0           362  2017-09-01 00:00:17  2017-09-01 00:06:19              3331   \n",
      "1           188  2017-09-01 00:00:21  2017-09-01 00:03:30              3101   \n",
      "2           305  2017-09-01 00:00:25  2017-09-01 00:05:30              3140   \n",
      "\n",
      "        start station name  start station latitude  start station longitude  \\\n",
      "0  Riverside Dr & W 104 St               40.801343               -73.971146   \n",
      "1    N 12 St & Bedford Ave               40.720798               -73.954847   \n",
      "2          1 Ave & E 78 St               40.771404               -73.953517   \n",
      "\n",
      "   end station id          end station name  end station latitude  \\\n",
      "0            3328  W 100 St & Manhattan Ave             40.795000   \n",
      "1            3100    Nassau Ave & Newell St             40.724813   \n",
      "2            3141           1 Ave & E 68 St             40.765005   \n",
      "\n",
      "   end station longitude  bikeid    usertype  birth year  gender  \n",
      "0             -73.964500   14530  Subscriber      1993.0       1  \n",
      "1             -73.947526   15475  Subscriber      1988.0       1  \n",
      "2             -73.958185   30346  Subscriber      1969.0       1  \n",
      "(1878098, 15)\n",
      "Index(['tripduration', 'starttime', 'stoptime', 'start station id',\n",
      "       'start station name', 'start station latitude',\n",
      "       'start station longitude', 'end station id', 'end station name',\n",
      "       'end station latitude', 'end station longitude', 'bikeid', 'usertype',\n",
      "       'birth year', 'gender'],\n",
      "      dtype='object') \n",
      "\n",
      "\n",
      "*Reading dataframe  1\n",
      "   Trip Duration           Start Time            Stop Time  Start Station ID  \\\n",
      "0            680  2017-01-01 00:00:21  2017-01-01 00:11:41              3226   \n",
      "1           1282  2017-01-01 00:00:45  2017-01-01 00:22:08              3263   \n",
      "2            648  2017-01-01 00:00:57  2017-01-01 00:11:46              3143   \n",
      "\n",
      "            Start Station Name  Start Station Latitude  \\\n",
      "0  W 82 St & Central Park West               40.782750   \n",
      "1       Cooper Square & E 7 St               40.729236   \n",
      "2              5 Ave & E 78 St               40.776829   \n",
      "\n",
      "   Start Station Longitude  End Station ID             End Station Name  \\\n",
      "0               -73.971370            3165  Central Park West & W 72 St   \n",
      "1               -73.990868             498           Broadway & W 32 St   \n",
      "2               -73.963888            3152              3 Ave & E 71 St   \n",
      "\n",
      "   End Station Latitude  End Station Longitude  Bike ID   User Type  \\\n",
      "0             40.775794             -73.976206    25542  Subscriber   \n",
      "1             40.748549             -73.988084    21136  Subscriber   \n",
      "2             40.768737             -73.961199    18147    Customer   \n",
      "\n",
      "   Birth Year  Gender  \n",
      "0      1965.0       2  \n",
      "1      1987.0       2  \n",
      "2         NaN       0  \n",
      "(726676, 15)\n",
      "Index(['Trip Duration', 'Start Time', 'Stop Time', 'Start Station ID',\n",
      "       'Start Station Name', 'Start Station Latitude',\n",
      "       'Start Station Longitude', 'End Station ID', 'End Station Name',\n",
      "       'End Station Latitude', 'End Station Longitude', 'Bike ID', 'User Type',\n",
      "       'Birth Year', 'Gender'],\n",
      "      dtype='object') \n",
      "\n",
      "\n",
      "*Reading dataframe  2\n",
      "   Trip Duration           Start Time            Stop Time  Start Station ID  \\\n",
      "0           1893  2017-03-01 00:00:32  2017-03-01 00:32:06              2009   \n",
      "1            223  2017-03-01 00:01:09  2017-03-01 00:04:53               127   \n",
      "2           1665  2017-03-01 00:01:27  2017-03-01 00:29:12               174   \n",
      "\n",
      "         Start Station Name  Start Station Latitude  Start Station Longitude  \\\n",
      "0  Catherine St & Monroe St               40.711174               -73.996826   \n",
      "1     Barrow St & Hudson St               40.731724               -74.006744   \n",
      "2           E 25 St & 1 Ave               40.738177               -73.977387   \n",
      "\n",
      "   End Station ID       End Station Name  End Station Latitude  \\\n",
      "0             527        E 33 St & 2 Ave             40.744023   \n",
      "1             284  Greenwich Ave & 8 Ave             40.739017   \n",
      "2             307  Canal St & Rutgers St             40.714275   \n",
      "\n",
      "   End Station Longitude  Bike ID   User Type  Birth Year  Gender  \n",
      "0             -73.976056    27291  Subscriber      1973.0       2  \n",
      "1             -74.002638    19387  Subscriber      1985.0       2  \n",
      "2             -73.989900    15809  Subscriber      1988.0       1  \n",
      "(727665, 15)\n",
      "Index(['Trip Duration', 'Start Time', 'Stop Time', 'Start Station ID',\n",
      "       'Start Station Name', 'Start Station Latitude',\n",
      "       'Start Station Longitude', 'End Station ID', 'End Station Name',\n",
      "       'End Station Latitude', 'End Station Longitude', 'Bike ID', 'User Type',\n",
      "       'Birth Year', 'Gender'],\n",
      "      dtype='object') \n",
      "\n",
      "\n",
      "*Reading dataframe  3\n",
      "   tripduration            starttime             stoptime  start station id  \\\n",
      "0           254  2017-05-01 00:00:13  2017-05-01 00:04:27               511   \n",
      "1           248  2017-05-01 00:00:19  2017-05-01 00:04:28               511   \n",
      "2          1120  2017-05-01 00:00:19  2017-05-01 00:19:00               242   \n",
      "\n",
      "           start station name  start station latitude  \\\n",
      "0          E 14 St & Avenue B               40.729387   \n",
      "1          E 14 St & Avenue B               40.729387   \n",
      "2  Carlton Ave & Flushing Ave               40.697787   \n",
      "\n",
      "   start station longitude  end station id          end station name  \\\n",
      "0               -73.977724             394         E 9 St & Avenue C   \n",
      "1               -73.977724             394         E 9 St & Avenue C   \n",
      "2               -73.973736            3083  Bushwick Ave & Powers St   \n",
      "\n",
      "   end station latitude  end station longitude  bikeid    usertype  \\\n",
      "0             40.725213             -73.977688   27695  Subscriber   \n",
      "1             40.725213             -73.977688   15869  Subscriber   \n",
      "2             40.712477             -73.941000   18700  Subscriber   \n",
      "\n",
      "   birth year  gender  \n",
      "0      1996.0       2  \n",
      "1      1996.0       1  \n",
      "2      1985.0       2  \n",
      "(1523268, 15)\n",
      "Index(['tripduration', 'starttime', 'stoptime', 'start station id',\n",
      "       'start station name', 'start station latitude',\n",
      "       'start station longitude', 'end station id', 'end station name',\n",
      "       'end station latitude', 'end station longitude', 'bikeid', 'usertype',\n",
      "       'birth year', 'gender'],\n",
      "      dtype='object') \n",
      "\n",
      "\n",
      "*Reading dataframe  4\n",
      "   tripduration            starttime             stoptime  start station id  \\\n",
      "0           297  2017-11-01 00:00:01  2017-11-01 00:04:59               418   \n",
      "1           269  2017-11-01 00:00:01  2017-11-01 00:04:30              3556   \n",
      "2           285  2017-11-01 00:00:04  2017-11-01 00:04:50               275   \n",
      "\n",
      "            start station name  start station latitude  \\\n",
      "0           Front St & Gold St               40.702240   \n",
      "1               24 St & 41 Ave               40.752709   \n",
      "2  Washington Ave & Greene Ave               40.686501   \n",
      "\n",
      "   start station longitude  end station id         end station name  \\\n",
      "0               -73.982578             414  Pearl St & Anchorage Pl   \n",
      "1               -73.939740            3126      44 Dr & Jackson Ave   \n",
      "2               -73.965633            3429   Hanson Pl & Ashland Pl   \n",
      "\n",
      "   end station latitude  end station longitude  bikeid    usertype  \\\n",
      "0             40.702819             -73.987658   24753  Subscriber   \n",
      "1             40.747182             -73.943264   19063  Subscriber   \n",
      "2             40.685068             -73.977908   29131  Subscriber   \n",
      "\n",
      "   birth year  gender  \n",
      "0      1986.0       1  \n",
      "1      1990.0       1  \n",
      "2      1993.0       1  \n",
      "(1330649, 15)\n",
      "Index(['tripduration', 'starttime', 'stoptime', 'start station id',\n",
      "       'start station name', 'start station latitude',\n",
      "       'start station longitude', 'end station id', 'end station name',\n",
      "       'end station latitude', 'end station longitude', 'bikeid', 'usertype',\n",
      "       'birth year', 'gender'],\n",
      "      dtype='object') \n",
      "\n",
      "\n",
      "*Reading dataframe  5\n",
      "   tripduration            starttime             stoptime  start station id  \\\n",
      "0           364  2017-07-01 00:00:00  2017-07-01 00:06:05               539   \n",
      "1          2142  2017-07-01 00:00:03  2017-07-01 00:35:46               293   \n",
      "2           328  2017-07-01 00:00:08  2017-07-01 00:05:37              3242   \n",
      "\n",
      "               start station name  start station latitude  \\\n",
      "0  Metropolitan Ave & Bedford Ave               40.715348   \n",
      "1           Lafayette St & E 8 St               40.730207   \n",
      "2      Schermerhorn St & Court St               40.691029   \n",
      "\n",
      "   start station longitude  end station id          end station name  \\\n",
      "0               -73.960241            3107  Bedford Ave & Nassau Ave   \n",
      "1               -73.991026            3425         2 Ave  & E 104 St   \n",
      "2               -73.991834            3397      Court St & Nelson St   \n",
      "\n",
      "   end station latitude  end station longitude  bikeid    usertype  \\\n",
      "0             40.723117             -73.952123   14744  Subscriber   \n",
      "1             40.789210             -73.943708   19587  Subscriber   \n",
      "2             40.676395             -73.998699   27937  Subscriber   \n",
      "\n",
      "   birth year  gender  \n",
      "0      1986.0       1  \n",
      "1      1981.0       1  \n",
      "2      1984.0       2  \n",
      "(1735599, 15)\n",
      "Index(['tripduration', 'starttime', 'stoptime', 'start station id',\n",
      "       'start station name', 'start station latitude',\n",
      "       'start station longitude', 'end station id', 'end station name',\n",
      "       'end station latitude', 'end station longitude', 'bikeid', 'usertype',\n",
      "       'birth year', 'gender'],\n",
      "      dtype='object') \n",
      "\n",
      "\n",
      "*Reading dataframe  6\n",
      "   tripduration            starttime             stoptime  start station id  \\\n",
      "0          2110  2017-08-01 00:00:00  2017-08-01 00:35:11               470   \n",
      "1           160  2017-08-01 00:00:10  2017-08-01 00:02:51               348   \n",
      "2          1644  2017-08-01 00:00:17  2017-08-01 00:27:41              3165   \n",
      "\n",
      "            start station name  start station latitude  \\\n",
      "0              W 20 St & 8 Ave               40.743453   \n",
      "1       W Broadway & Spring St               40.724910   \n",
      "2  Central Park West & W 72 St               40.775794   \n",
      "\n",
      "   start station longitude  end station id              end station name  \\\n",
      "0               -74.000040            3289       W 90 St & Amsterdam Ave   \n",
      "1               -74.001547             151      Cleveland Pl & Spring St   \n",
      "2               -73.976206            3320  Central Park West & W 100 St   \n",
      "\n",
      "   end station latitude  end station longitude  bikeid    usertype  \\\n",
      "0             40.790179             -73.972889   20954  Subscriber   \n",
      "1             40.722104             -73.997249   15164  Subscriber   \n",
      "2             40.793393             -73.963556   17540  Subscriber   \n",
      "\n",
      "   birth year  gender  \n",
      "0      1978.0       2  \n",
      "1      1978.0       1  \n",
      "2      1962.0       2  \n",
      "(1816498, 15)\n",
      "Index(['tripduration', 'starttime', 'stoptime', 'start station id',\n",
      "       'start station name', 'start station latitude',\n",
      "       'start station longitude', 'end station id', 'end station name',\n",
      "       'end station latitude', 'end station longitude', 'bikeid', 'usertype',\n",
      "       'birth year', 'gender'],\n",
      "      dtype='object') \n",
      "\n",
      "\n",
      "*Reading dataframe  7\n",
      "   Trip Duration           Start Time            Stop Time  Start Station ID  \\\n",
      "0           1087  2017-02-01 00:00:13  2017-02-01 00:18:20               345   \n",
      "1            704  2017-02-01 00:00:31  2017-02-01 00:12:15              3295   \n",
      "2            212  2017-02-01 00:00:34  2017-02-01 00:04:06               336   \n",
      "\n",
      "            Start Station Name  Start Station Latitude  \\\n",
      "0              W 13 St & 6 Ave               40.736494   \n",
      "1     Central Park W & W 96 St               40.791270   \n",
      "2  Sullivan St & Washington Sq               40.730477   \n",
      "\n",
      "   Start Station Longitude  End Station ID        End Station Name  \\\n",
      "0               -73.997044             305         E 58 St & 3 Ave   \n",
      "1               -73.964839            2006  Central Park S & 6 Ave   \n",
      "2               -73.999061             439          E 4 St & 2 Ave   \n",
      "\n",
      "   End Station Latitude  End Station Longitude  Bike ID   User Type  \\\n",
      "0             40.760958             -73.967245    17432  Subscriber   \n",
      "1             40.765909             -73.976342    20621    Customer   \n",
      "2             40.726281             -73.989780    16826  Subscriber   \n",
      "\n",
      "   Birth Year  Gender  \n",
      "0      1966.0       1  \n",
      "1         NaN       0  \n",
      "2      1984.0       1  \n",
      "(791647, 15)\n",
      "Index(['Trip Duration', 'Start Time', 'Stop Time', 'Start Station ID',\n",
      "       'Start Station Name', 'Start Station Latitude',\n",
      "       'Start Station Longitude', 'End Station ID', 'End Station Name',\n",
      "       'End Station Latitude', 'End Station Longitude', 'Bike ID', 'User Type',\n",
      "       'Birth Year', 'Gender'],\n",
      "      dtype='object') \n",
      "\n",
      "\n",
      "*Reading dataframe  8\n",
      "   tripduration            starttime             stoptime  start station id  \\\n",
      "0           195  2017-04-01 00:00:58  2017-04-01 00:04:14               217   \n",
      "1           585  2017-04-01 00:01:54  2017-04-01 00:11:40               490   \n",
      "2           665  2017-04-01 00:01:56  2017-04-01 00:13:01               504   \n",
      "\n",
      "  start station name  start station latitude  start station longitude  \\\n",
      "0      Old Fulton St               40.702772               -73.993836   \n",
      "1    8 Ave & W 33 St               40.751551               -73.993934   \n",
      "2    1 Ave & E 16 St               40.732219               -73.981656   \n",
      "\n",
      "   end station id       end station name  end station latitude  \\\n",
      "0             430       York St & Jay St             40.701485   \n",
      "1            3158     W 63 St & Broadway             40.771639   \n",
      "2             412  Forsyth St & Canal St             40.715816   \n",
      "\n",
      "   end station longitude  bikeid    usertype  birth year  gender  \n",
      "0             -73.986569   25454  Subscriber      1966.0       1  \n",
      "1             -73.982614   25930  Subscriber      1995.0       1  \n",
      "2             -73.994224   27110  Subscriber      1987.0       1  \n",
      "(1315404, 15)\n",
      "Index(['tripduration', 'starttime', 'stoptime', 'start station id',\n",
      "       'start station name', 'start station latitude',\n",
      "       'start station longitude', 'end station id', 'end station name',\n",
      "       'end station latitude', 'end station longitude', 'bikeid', 'usertype',\n",
      "       'birth year', 'gender'],\n",
      "      dtype='object') \n",
      "\n",
      "\n",
      "*Reading dataframe  9\n",
      "   tripduration            starttime             stoptime  start station id  \\\n",
      "0           256  2017-12-01 00:00:00  2017-12-01 00:04:17               324   \n",
      "1           325  2017-12-01 00:00:17  2017-12-01 00:05:43               470   \n",
      "2           967  2017-12-01 00:00:19  2017-12-01 00:16:26               347   \n",
      "\n",
      "            start station name  start station latitude  \\\n",
      "0      DeKalb Ave & Hudson Ave               40.689888   \n",
      "1              W 20 St & 8 Ave               40.743453   \n",
      "2  Greenwich St & W Houston St               40.728846   \n",
      "\n",
      "   start station longitude  end station id end station name  \\\n",
      "0               -73.981013             262  Washington Park   \n",
      "1               -74.000040             490  8 Ave & W 33 St   \n",
      "2               -74.008591             504  1 Ave & E 16 St   \n",
      "\n",
      "   end station latitude  end station longitude  bikeid    usertype  \\\n",
      "0             40.691782             -73.973730   18858  Subscriber   \n",
      "1             40.751551             -73.993934   19306  Subscriber   \n",
      "2             40.732219             -73.981656   28250  Subscriber   \n",
      "\n",
      "   birth year  gender  \n",
      "0      1981.0       1  \n",
      "1      1992.0       1  \n",
      "2      1992.0       1  \n",
      "(889967, 15)\n",
      "Index(['tripduration', 'starttime', 'stoptime', 'start station id',\n",
      "       'start station name', 'start station latitude',\n",
      "       'start station longitude', 'end station id', 'end station name',\n",
      "       'end station latitude', 'end station longitude', 'bikeid', 'usertype',\n",
      "       'birth year', 'gender'],\n",
      "      dtype='object') \n",
      "\n",
      "\n",
      "*Reading dataframe  10\n",
      "   tripduration            starttime             stoptime  start station id  \\\n",
      "0          1397  2017-06-01 00:00:02  2017-06-01 00:23:19               515   \n",
      "1          1103  2017-06-01 00:00:13  2017-06-01 00:18:37               488   \n",
      "2          1810  2017-06-01 00:00:20  2017-06-01 00:30:31               461   \n",
      "\n",
      "  start station name  start station latitude  start station longitude  \\\n",
      "0   W 43 St & 10 Ave               40.760094               -73.994618   \n",
      "1    W 39 St & 9 Ave               40.756458               -73.993722   \n",
      "2    E 20 St & 2 Ave               40.735877               -73.982050   \n",
      "\n",
      "   end station id          end station name  end station latitude  \\\n",
      "0            3285  W 87 St  & Amsterdam Ave             40.788390   \n",
      "1             297           E 15 St & 3 Ave             40.734232   \n",
      "2             465        Broadway & W 41 St             40.755136   \n",
      "\n",
      "   end station longitude  bikeid    usertype  birth year  gender  \n",
      "0             -73.974700   26642  Subscriber      1967.0       1  \n",
      "1             -73.986923   25656  Subscriber      1981.0       1  \n",
      "2             -73.986580   21023  Subscriber      1982.0       1  \n",
      "(1731594, 15)\n",
      "Index(['tripduration', 'starttime', 'stoptime', 'start station id',\n",
      "       'start station name', 'start station latitude',\n",
      "       'start station longitude', 'end station id', 'end station name',\n",
      "       'end station latitude', 'end station longitude', 'bikeid', 'usertype',\n",
      "       'birth year', 'gender'],\n",
      "      dtype='object') \n",
      "\n",
      "\n",
      "*Reading dataframe  11\n",
      "   tripduration            starttime             stoptime  start station id  \\\n",
      "0           457  2017-10-01 00:00:00  2017-10-01 00:07:38               479   \n",
      "1          6462  2017-10-01 00:00:20  2017-10-01 01:48:03               279   \n",
      "2           761  2017-10-01 00:00:27  2017-10-01 00:13:09               504   \n",
      "\n",
      "     start station name  start station latitude  start station longitude  \\\n",
      "0       9 Ave & W 45 St               40.760193               -73.991255   \n",
      "1  Peck Slip & Front St               40.707873               -74.001670   \n",
      "2       1 Ave & E 16 St               40.732219               -73.981656   \n",
      "\n",
      "   end station id       end station name  end station latitude  \\\n",
      "0             478       11 Ave & W 41 St             40.760301   \n",
      "1             307  Canal St & Rutgers St             40.714275   \n",
      "2             350  Clinton St & Grand St             40.715595   \n",
      "\n",
      "   end station longitude  bikeid    usertype  birth year  gender  \n",
      "0             -73.998842   30951  Subscriber      1985.0       1  \n",
      "1             -73.989900   14809    Customer         NaN       0  \n",
      "2             -73.987030   28713  Subscriber      1992.0       1  \n",
      "(1897592, 15)\n",
      "Index(['tripduration', 'starttime', 'stoptime', 'start station id',\n",
      "       'start station name', 'start station latitude',\n",
      "       'start station longitude', 'end station id', 'end station name',\n",
      "       'end station latitude', 'end station longitude', 'bikeid', 'usertype',\n",
      "       'birth year', 'gender'],\n",
      "      dtype='object') \n",
      "\n"
     ]
    }
   ],
   "source": [
    "for i in range(12):\n",
    "    print('\\n*Reading dataframe ',i)\n",
    "    print(dfs[i].head(3))\n",
    "    print(dfs[i].shape)\n",
    "    print(dfs[i].columns,'\\n')"
   ]
  },
  {
   "cell_type": "markdown",
   "metadata": {},
   "source": [
    "The Dataframes don't have the same column names. The code below will uniform all the columns and concat them into one datafame:"
   ]
  },
  {
   "cell_type": "code",
   "execution_count": 86,
   "metadata": {},
   "outputs": [],
   "source": [
    "for i in range (11):\n",
    "    dfs[i].columns = dfs[11].columns\n",
    "    #dfs[i].rename(columns=dict(zip(old_names, new_names)), inplace=True)\n",
    "    #print(dfs[i].columns)\n",
    "    "
   ]
  },
  {
   "cell_type": "code",
   "execution_count": 89,
   "metadata": {},
   "outputs": [
    {
     "name": "stdout",
     "output_type": "stream",
     "text": [
      "(16364657, 15)\n"
     ]
    }
   ],
   "source": [
    "results = pd.concat(dfs[i] for i in range(12))\n",
    "print(results.shape)"
   ]
  },
  {
   "cell_type": "code",
   "execution_count": 90,
   "metadata": {},
   "outputs": [
    {
     "data": {
      "text/plain": [
       "tripduration                 int64\n",
       "starttime                   object\n",
       "stoptime                    object\n",
       "start station id             int64\n",
       "start station name          object\n",
       "start station latitude     float64\n",
       "start station longitude    float64\n",
       "end station id               int64\n",
       "end station name            object\n",
       "end station latitude       float64\n",
       "end station longitude      float64\n",
       "bikeid                       int64\n",
       "usertype                    object\n",
       "birth year                 float64\n",
       "gender                       int64\n",
       "dtype: object"
      ]
     },
     "execution_count": 90,
     "metadata": {},
     "output_type": "execute_result"
    }
   ],
   "source": [
    "results.dtypes"
   ]
  },
  {
   "cell_type": "markdown",
   "metadata": {},
   "source": [
    "Indeed, there's an important format difference: the `starttime` and `stoptime` variables uhave object formats. This will be important later on as we use these timestamps for the analyses.\n",
    "\n",
    "There are several ways we can fix this. The most convenient way to use time series data is to convert it to the appropriate data type (pandas uses NumPy's `datetime64`). I will use the function `to_datetime` to do this. `to_datetime` is very flexible and will recognize a wide variety of string formats."
   ]
  },
  {
   "cell_type": "code",
   "execution_count": 147,
   "metadata": {},
   "outputs": [],
   "source": [
    "#results['starttime'] = pd.to_datetime(results['starttime'])\n",
    "#results['stoptime'] = pd.to_datetime(results['stoptime'])\n",
    "#results.dtypes"
   ]
  },
  {
   "cell_type": "code",
   "execution_count": 103,
   "metadata": {},
   "outputs": [],
   "source": [
    "df = results # make a copy in case we need it for later"
   ]
  },
  {
   "cell_type": "code",
   "execution_count": 94,
   "metadata": {},
   "outputs": [],
   "source": [
    "# Remove .csv files as we no longer need them before saving the data frame as cvs file\n",
    "#!rm *.csv"
   ]
  },
  {
   "cell_type": "markdown",
   "metadata": {},
   "source": [
    "Now that the timestamps are consistent, I can save the dataframe."
   ]
  },
  {
   "cell_type": "code",
   "execution_count": 97,
   "metadata": {},
   "outputs": [],
   "source": [
    "#Saved csv to avoid running code above multiple times in the future\n",
    "results.to_csv('2017-citibike-data.csv',index=False, )"
   ]
  },
  {
   "cell_type": "markdown",
   "metadata": {},
   "source": [
    "<a id='Analysis'></a>\n",
    "## Analysis\n",
    "\n",
    "Get an overview of the data, by looking at the general aspect of the variables, data types, total number of observations, and so on.\n",
    "\n",
    "**Ask:** <br />\n",
    "    1. Top 5 stations with the most starts (showing # of starts)\n",
    "    2. Trip duration by user type\n",
    "    3. Most popular trips based on start station and stop station)\n",
    "    4. Rider performance by Gender and Age based on avg trip distance (station to station), \n",
    "       median speed (trip duration / distance traveled)\n",
    "    5. What is the busiest bike in NYC in 2017? How many times was it used? How many minutes was it in use?\n",
    "    6. A model that can predict how long a trip will take given a starting point and destination. "
   ]
  },
  {
   "cell_type": "code",
   "execution_count": 164,
   "metadata": {},
   "outputs": [],
   "source": [
    "import pandas as pd\n",
    "import matplotlib as mpl\n",
    "import matplotlib.pyplot as plt\n",
    "import seaborn as sns\n",
    "from matplotlib import rcParams\n",
    "import datetime as dt\n",
    "plt.style.use('ggplot')\n",
    "%matplotlib inline"
   ]
  },
  {
   "cell_type": "code",
   "execution_count": 102,
   "metadata": {},
   "outputs": [],
   "source": [
    "#file_name = '2017-citibike-data.csv'\n",
    "#df = pd.read_pickle(file_name) # Read data and print elapsed time"
   ]
  },
  {
   "cell_type": "markdown",
   "metadata": {},
   "source": [
    "### Part 1: Top 5 Stations \n",
    "Let's check if there's any noise or cleanup which needs to be done before creating the chart. <br />\n",
    "1. Any missing values?<br />\n",
    "    - Mostly for Birth year and a few for User Type. We can ignore these for now and deal with them later.<br />\n",
    "2. Let's get the data in the right format<br />\n",
    "    - Trip Duration - Int<br />\n",
    "    - Start Time - DateTime<br />\n",
    "    - Stop Time - DateTime<br />\n",
    "    - Start Station ID - Categorical<br />\n",
    "    - Start Station Name - Categorical<br />\n",
    "    - User Type - Categorical<br />\n",
    "    - Birth Year - Ordinal<br />\n",
    "    - Gender - Categorical<br />\n",
    "3. Deal with trips which lasted less than 1.5 minute (90 seconds). If so, in the ideal world, we should not include this start, we may double count. If a bike is broken, a user will dock it again within a minute or two and pick-up another one.<br />\n",
    "   - Would be ideal to not include any starts where a tip lasted less than 90 seconds *and* the start station = end station.<br /> \n",
    "4. Anomalies such as theft and broken docks shouldn't matter for this metric and can be dealth with later."
   ]
  },
  {
   "cell_type": "code",
   "execution_count": 167,
   "metadata": {},
   "outputs": [
    {
     "name": "stdout",
     "output_type": "stream",
     "text": [
      "Number of individual bikes:  14203\n",
      "Number of citibike stations:  811\n"
     ]
    }
   ],
   "source": [
    "print('Number of individual bikes: ',df['bikeid'].nunique())\n",
    "print('Number of citibike stations: ',df['start station id'].nunique())"
   ]
  },
  {
   "cell_type": "code",
   "execution_count": 150,
   "metadata": {},
   "outputs": [
    {
     "name": "stdout",
     "output_type": "stream",
     "text": [
      "Missing data\n"
     ]
    },
    {
     "data": {
      "text/html": [
       "<div>\n",
       "<style scoped>\n",
       "    .dataframe tbody tr th:only-of-type {\n",
       "        vertical-align: middle;\n",
       "    }\n",
       "\n",
       "    .dataframe tbody tr th {\n",
       "        vertical-align: top;\n",
       "    }\n",
       "\n",
       "    .dataframe thead th {\n",
       "        text-align: right;\n",
       "    }\n",
       "</style>\n",
       "<table border=\"1\" class=\"dataframe\">\n",
       "  <thead>\n",
       "    <tr style=\"text-align: right;\">\n",
       "      <th></th>\n",
       "      <th>Total</th>\n",
       "      <th>Percent</th>\n",
       "    </tr>\n",
       "  </thead>\n",
       "  <tbody>\n",
       "    <tr>\n",
       "      <th>birth year</th>\n",
       "      <td>1630335</td>\n",
       "      <td>9.962537</td>\n",
       "    </tr>\n",
       "    <tr>\n",
       "      <th>usertype</th>\n",
       "      <td>15909</td>\n",
       "      <td>0.097216</td>\n",
       "    </tr>\n",
       "    <tr>\n",
       "      <th>gender</th>\n",
       "      <td>0</td>\n",
       "      <td>0.000000</td>\n",
       "    </tr>\n",
       "    <tr>\n",
       "      <th>bikeid</th>\n",
       "      <td>0</td>\n",
       "      <td>0.000000</td>\n",
       "    </tr>\n",
       "    <tr>\n",
       "      <th>end station longitude</th>\n",
       "      <td>0</td>\n",
       "      <td>0.000000</td>\n",
       "    </tr>\n",
       "    <tr>\n",
       "      <th>end station latitude</th>\n",
       "      <td>0</td>\n",
       "      <td>0.000000</td>\n",
       "    </tr>\n",
       "    <tr>\n",
       "      <th>end station name</th>\n",
       "      <td>0</td>\n",
       "      <td>0.000000</td>\n",
       "    </tr>\n",
       "    <tr>\n",
       "      <th>end station id</th>\n",
       "      <td>0</td>\n",
       "      <td>0.000000</td>\n",
       "    </tr>\n",
       "    <tr>\n",
       "      <th>start station longitude</th>\n",
       "      <td>0</td>\n",
       "      <td>0.000000</td>\n",
       "    </tr>\n",
       "    <tr>\n",
       "      <th>start station latitude</th>\n",
       "      <td>0</td>\n",
       "      <td>0.000000</td>\n",
       "    </tr>\n",
       "    <tr>\n",
       "      <th>start station name</th>\n",
       "      <td>0</td>\n",
       "      <td>0.000000</td>\n",
       "    </tr>\n",
       "    <tr>\n",
       "      <th>start station id</th>\n",
       "      <td>0</td>\n",
       "      <td>0.000000</td>\n",
       "    </tr>\n",
       "    <tr>\n",
       "      <th>stoptime</th>\n",
       "      <td>0</td>\n",
       "      <td>0.000000</td>\n",
       "    </tr>\n",
       "    <tr>\n",
       "      <th>starttime</th>\n",
       "      <td>0</td>\n",
       "      <td>0.000000</td>\n",
       "    </tr>\n",
       "    <tr>\n",
       "      <th>tripduration</th>\n",
       "      <td>0</td>\n",
       "      <td>0.000000</td>\n",
       "    </tr>\n",
       "  </tbody>\n",
       "</table>\n",
       "</div>"
      ],
      "text/plain": [
       "                           Total   Percent\n",
       "birth year               1630335  9.962537\n",
       "usertype                   15909  0.097216\n",
       "gender                         0  0.000000\n",
       "bikeid                         0  0.000000\n",
       "end station longitude          0  0.000000\n",
       "end station latitude           0  0.000000\n",
       "end station name               0  0.000000\n",
       "end station id                 0  0.000000\n",
       "start station longitude        0  0.000000\n",
       "start station latitude         0  0.000000\n",
       "start station name             0  0.000000\n",
       "start station id               0  0.000000\n",
       "stoptime                       0  0.000000\n",
       "starttime                      0  0.000000\n",
       "tripduration                   0  0.000000"
      ]
     },
     "execution_count": 150,
     "metadata": {},
     "output_type": "execute_result"
    }
   ],
   "source": [
    "#Percentage of missing data.\n",
    "def missing_data(df):\n",
    "    total = df.isnull().sum().sort_values(ascending=False)\n",
    "    percent = (df.isnull().sum()/df.isnull().count()*100).sort_values(ascending=False)\n",
    "    missing_data = pd.concat([total, percent], axis=1, keys=['Total', 'Percent'])\n",
    "    print('Missing data')\n",
    "    return missing_data\n",
    "missing_data(df)"
   ]
  },
  {
   "cell_type": "code",
   "execution_count": 146,
   "metadata": {},
   "outputs": [
    {
     "data": {
      "text/plain": [
       "tripduration                        int64\n",
       "starttime                  datetime64[ns]\n",
       "stoptime                   datetime64[ns]\n",
       "start station id                    int64\n",
       "start station name                 object\n",
       "start station latitude            float64\n",
       "start station longitude           float64\n",
       "end station id                      int64\n",
       "end station name                   object\n",
       "end station latitude              float64\n",
       "end station longitude             float64\n",
       "bikeid                              int64\n",
       "usertype                           object\n",
       "birth year                        float64\n",
       "gender                              int64\n",
       "dtype: object"
      ]
     },
     "execution_count": 146,
     "metadata": {},
     "output_type": "execute_result"
    }
   ],
   "source": [
    "df.dtypes"
   ]
  },
  {
   "cell_type": "code",
   "execution_count": 149,
   "metadata": {},
   "outputs": [
    {
     "data": {
      "text/html": [
       "<div>\n",
       "<style scoped>\n",
       "    .dataframe tbody tr th:only-of-type {\n",
       "        vertical-align: middle;\n",
       "    }\n",
       "\n",
       "    .dataframe tbody tr th {\n",
       "        vertical-align: top;\n",
       "    }\n",
       "\n",
       "    .dataframe thead th {\n",
       "        text-align: right;\n",
       "    }\n",
       "</style>\n",
       "<table border=\"1\" class=\"dataframe\">\n",
       "  <thead>\n",
       "    <tr style=\"text-align: right;\">\n",
       "      <th></th>\n",
       "      <th>tripduration</th>\n",
       "      <th>start station id</th>\n",
       "      <th>start station latitude</th>\n",
       "      <th>start station longitude</th>\n",
       "      <th>end station latitude</th>\n",
       "      <th>end station longitude</th>\n",
       "      <th>bikeid</th>\n",
       "      <th>birth year</th>\n",
       "    </tr>\n",
       "  </thead>\n",
       "  <tbody>\n",
       "    <tr>\n",
       "      <th>count</th>\n",
       "      <td>16364657.00</td>\n",
       "      <td>16364657.00</td>\n",
       "      <td>16364657.00</td>\n",
       "      <td>16364657.00</td>\n",
       "      <td>16364657.00</td>\n",
       "      <td>16364657.00</td>\n",
       "      <td>16364657.00</td>\n",
       "      <td>14734322.00</td>\n",
       "    </tr>\n",
       "    <tr>\n",
       "      <th>mean</th>\n",
       "      <td>994.59</td>\n",
       "      <td>1357.13</td>\n",
       "      <td>40.74</td>\n",
       "      <td>-73.98</td>\n",
       "      <td>40.74</td>\n",
       "      <td>-73.98</td>\n",
       "      <td>23754.63</td>\n",
       "      <td>1978.90</td>\n",
       "    </tr>\n",
       "    <tr>\n",
       "      <th>std</th>\n",
       "      <td>16178.92</td>\n",
       "      <td>1346.90</td>\n",
       "      <td>0.07</td>\n",
       "      <td>0.12</td>\n",
       "      <td>0.05</td>\n",
       "      <td>0.08</td>\n",
       "      <td>5345.62</td>\n",
       "      <td>11.83</td>\n",
       "    </tr>\n",
       "    <tr>\n",
       "      <th>min</th>\n",
       "      <td>61.00</td>\n",
       "      <td>72.00</td>\n",
       "      <td>0.00</td>\n",
       "      <td>-74.03</td>\n",
       "      <td>0.00</td>\n",
       "      <td>-74.09</td>\n",
       "      <td>14529.00</td>\n",
       "      <td>1858.00</td>\n",
       "    </tr>\n",
       "    <tr>\n",
       "      <th>25%</th>\n",
       "      <td>372.00</td>\n",
       "      <td>361.00</td>\n",
       "      <td>40.72</td>\n",
       "      <td>-74.00</td>\n",
       "      <td>40.72</td>\n",
       "      <td>-74.00</td>\n",
       "      <td>18653.00</td>\n",
       "      <td>1971.00</td>\n",
       "    </tr>\n",
       "    <tr>\n",
       "      <th>50%</th>\n",
       "      <td>621.00</td>\n",
       "      <td>487.00</td>\n",
       "      <td>40.74</td>\n",
       "      <td>-73.99</td>\n",
       "      <td>40.74</td>\n",
       "      <td>-73.99</td>\n",
       "      <td>25464.00</td>\n",
       "      <td>1982.00</td>\n",
       "    </tr>\n",
       "    <tr>\n",
       "      <th>75%</th>\n",
       "      <td>1076.00</td>\n",
       "      <td>3142.00</td>\n",
       "      <td>40.76</td>\n",
       "      <td>-73.98</td>\n",
       "      <td>40.76</td>\n",
       "      <td>-73.98</td>\n",
       "      <td>28114.00</td>\n",
       "      <td>1988.00</td>\n",
       "    </tr>\n",
       "    <tr>\n",
       "      <th>max</th>\n",
       "      <td>9735948.00</td>\n",
       "      <td>3654.00</td>\n",
       "      <td>45.51</td>\n",
       "      <td>0.00</td>\n",
       "      <td>45.51</td>\n",
       "      <td>0.00</td>\n",
       "      <td>33481.00</td>\n",
       "      <td>2001.00</td>\n",
       "    </tr>\n",
       "  </tbody>\n",
       "</table>\n",
       "</div>"
      ],
      "text/plain": [
       "       tripduration  start station id  start station latitude  \\\n",
       "count   16364657.00       16364657.00             16364657.00   \n",
       "mean         994.59           1357.13                   40.74   \n",
       "std        16178.92           1346.90                    0.07   \n",
       "min           61.00             72.00                    0.00   \n",
       "25%          372.00            361.00                   40.72   \n",
       "50%          621.00            487.00                   40.74   \n",
       "75%         1076.00           3142.00                   40.76   \n",
       "max      9735948.00           3654.00                   45.51   \n",
       "\n",
       "       start station longitude  end station latitude  end station longitude  \\\n",
       "count              16364657.00           16364657.00            16364657.00   \n",
       "mean                    -73.98                 40.74                 -73.98   \n",
       "std                       0.12                  0.05                   0.08   \n",
       "min                     -74.03                  0.00                 -74.09   \n",
       "25%                     -74.00                 40.72                 -74.00   \n",
       "50%                     -73.99                 40.74                 -73.99   \n",
       "75%                     -73.98                 40.76                 -73.98   \n",
       "max                       0.00                 45.51                   0.00   \n",
       "\n",
       "            bikeid   birth year  \n",
       "count  16364657.00  14734322.00  \n",
       "mean      23754.63      1978.90  \n",
       "std        5345.62        11.83  \n",
       "min       14529.00      1858.00  \n",
       "25%       18653.00      1971.00  \n",
       "50%       25464.00      1982.00  \n",
       "75%       28114.00      1988.00  \n",
       "max       33481.00      2001.00  "
      ]
     },
     "execution_count": 149,
     "metadata": {},
     "output_type": "execute_result"
    }
   ],
   "source": [
    "#Ensure data is formatted correctly to avoid errors in the visuals\n",
    "#df['starttime'] = pd.to_datetime(df['starttime'])\n",
    "#df['stoptime'] = pd.to_datetime(df['stoptime'])\n",
    "df['start station name'] = df['start station name'].astype('category')\n",
    "df['end station id'] = df['end station id'].astype('category')\n",
    "df['usertype'] = df['usertype'].astype('category')\n",
    "df['gender'] = df['gender'].astype('category')\n",
    "round(df.describe(),2)"
   ]
  },
  {
   "cell_type": "code",
   "execution_count": 156,
   "metadata": {},
   "outputs": [
    {
     "data": {
      "text/html": [
       "<div>\n",
       "<style scoped>\n",
       "    .dataframe tbody tr th:only-of-type {\n",
       "        vertical-align: middle;\n",
       "    }\n",
       "\n",
       "    .dataframe tbody tr th {\n",
       "        vertical-align: top;\n",
       "    }\n",
       "\n",
       "    .dataframe thead th {\n",
       "        text-align: right;\n",
       "    }\n",
       "</style>\n",
       "<table border=\"1\" class=\"dataframe\">\n",
       "  <thead>\n",
       "    <tr style=\"text-align: right;\">\n",
       "      <th></th>\n",
       "      <th>First Bike</th>\n",
       "      <th>Second Bike</th>\n",
       "    </tr>\n",
       "    <tr>\n",
       "      <th>starttime</th>\n",
       "      <th></th>\n",
       "      <th></th>\n",
       "    </tr>\n",
       "  </thead>\n",
       "  <tbody>\n",
       "    <tr>\n",
       "      <th>2017-09-01 00:26:14</th>\n",
       "      <td>S 5 Pl &amp; S 4 St</td>\n",
       "      <td>S 5 Pl &amp; S 4 St</td>\n",
       "    </tr>\n",
       "    <tr>\n",
       "      <th>2017-09-01 00:29:27</th>\n",
       "      <td>Amsterdam Ave &amp; W 66 St</td>\n",
       "      <td>W 67 St &amp; Broadway</td>\n",
       "    </tr>\n",
       "    <tr>\n",
       "      <th>2017-09-01 01:31:39</th>\n",
       "      <td>W 76 St &amp; Columbus Ave</td>\n",
       "      <td>Columbus Ave &amp; W 72 St</td>\n",
       "    </tr>\n",
       "    <tr>\n",
       "      <th>2017-09-01 01:40:39</th>\n",
       "      <td>Hoyt St &amp; Warren St</td>\n",
       "      <td>Hoyt St &amp; Warren St</td>\n",
       "    </tr>\n",
       "    <tr>\n",
       "      <th>2017-09-01 01:50:10</th>\n",
       "      <td>Allen St &amp; Stanton St</td>\n",
       "      <td>Stanton St &amp; Chrystie St</td>\n",
       "    </tr>\n",
       "  </tbody>\n",
       "</table>\n",
       "</div>"
      ],
      "text/plain": [
       "                                  First Bike               Second Bike\n",
       "starttime                                                             \n",
       "2017-09-01 00:26:14          S 5 Pl & S 4 St           S 5 Pl & S 4 St\n",
       "2017-09-01 00:29:27  Amsterdam Ave & W 66 St        W 67 St & Broadway\n",
       "2017-09-01 01:31:39   W 76 St & Columbus Ave    Columbus Ave & W 72 St\n",
       "2017-09-01 01:40:39      Hoyt St & Warren St       Hoyt St & Warren St\n",
       "2017-09-01 01:50:10    Allen St & Stanton St  Stanton St & Chrystie St"
      ]
     },
     "execution_count": 156,
     "metadata": {},
     "output_type": "execute_result"
    }
   ],
   "source": [
    "#Quasi Confirm Hypothesis in point #3\n",
    "df_bikenum = pd.DataFrame()\n",
    "df_bikenum['First Bike'] = df[df['tripduration'] < 90]['start station name'] \n",
    "df_bikenum['Second Bike'] = df[df['tripduration'] < 90]['end station name']\n",
    "df_bikenum.head()"
   ]
  },
  {
   "cell_type": "code",
   "execution_count": 157,
   "metadata": {},
   "outputs": [],
   "source": [
    "#Clear up enviornment and drop double count\n",
    "del(df_bikenum)\n",
    "df = df.drop(df.index[(df['tripduration'] < 90) & \n",
    "                          (df['start station latitude'] == df['end station latitude'])])"
   ]
  },
  {
   "cell_type": "code",
   "execution_count": 158,
   "metadata": {},
   "outputs": [],
   "source": [
    "#Data for Top 5 Stations visual\n",
    "top5 = pd.DataFrame() \n",
    "top5['Station']=df['start station name'].value_counts().head().index\n",
    "top5['Number of Starts']=df['start station name'].value_counts().head().values\n",
    "top5['Station'] = top5['Station'].cat.remove_unused_categories()\n",
    "top5['Station'] = top5['Station'].astype('object')\n",
    "#top5.sort_values(by = 'Number of Starts', ascending = False)"
   ]
  },
  {
   "cell_type": "code",
   "execution_count": 165,
   "metadata": {},
   "outputs": [
    {
     "data": {
      "image/png": "[encoded data removed]",
      "text/plain": [
       "<Figure size 432x288 with 1 Axes>"
      ]
     },
     "metadata": {},
     "output_type": "display_data"
    }
   ],
   "source": [
    "#Plot for Part 1: Top 5 Stations\n",
    "ax = sns.barplot('Station', 'Number of Starts', data = top5, palette=\"GnBu_d\")\n",
    "ax.set_title('Top 5 Citi Bike Stations by Number of Starts', fontsize = 12)\n",
    "rcParams['figure.figsize'] = 12,7\n",
    "ax.set_xticklabels(ax.get_xticklabels(),rotation=40, ha = 'right')\n",
    "for index, row in top5.iterrows():\n",
    "    ax.text(index,row['Number of Starts']-4000,row['Number of Starts'], \n",
    "            color='white', ha=\"center\", fontsize = 10)\n",
    "plt.show()"
   ]
  },
  {
   "cell_type": "markdown",
   "metadata": {},
   "source": [
    "### Part 2: Trip Duration by User Type\n",
    "This question is a bit unclear in terms of what to do with the anomalies, so I'll be making two graphs. One with anomalies, one without.<br />\n",
    "\n",
    "*There are NA values in the dataset for usertype as can be seen from missing_table. Since it's only 0.09% of the data, it's safe to remove.*<br />\n",
    "\n",
    "**According to Citi Bikes' website:** The first 45 minutes of each ride is included for Annual Members, and the first 30 minutes of each ride is included for Day Pass users. If you want to keep a bike out for longer, it’s only an extra $4 for each additional 15 minutes.<br />\n",
    "\n",
    "It's safe to assume, no one (or very few people) will be willing to rent a bike for more than 2 hours, especially a clunky citibike. If they did, it would cost them an additional $20 assuming they're annual subscribers. It would be more economical for them to buy a bike if they want that workout or use one of the tour bikes in central park if they want to tour and explore the city on a bike. There may be a better way to choose an optimal cutoff, however, time is key in a client project. Or just docing and getting another bike. The real cost of a bike is accrued ~24 hours. <br />\n",
    "\n",
    "**Anomalies**: Any trip which lasts longer than 2 hours (7,200 seconds) probably indicates a stolen bike, an anomaly, or incorrect docking of the bike. As an avid Citibike user, I know first hand that it doesn't make any sense for one to use a bike for more than one hour! However, I've added a one hour cushion just in case. No rider would plan to go over the maximum 45 minutes allowed. However, I wplan to reduce this to one hour in the future for modelling purposes. \n",
    "\n",
    "1. *First Half- with anomalies in dataset*\n",
    "    - The graph under ax2 is a bargraph of average trip duration for each user type. It's helpful, but would be better to see a boxplot and get an idea of the distribution and see mintues instead of seconds.<br />\n",
    "    - Second graph is a basic Boxplot based with anomalies included. As we can see, there is too much noise for this to be useful. It'll be better to look at this without anomalies.<br />\n",
    "\n",
    "2. *Second Half - without anomalies in dataset*\n",
    "    - Still not useful, let's add a column with minutes for trip Duration.<br />\n",
    "    - Boxplot with minutes is much more useful. There are still some outliers, however, it is informative. "
   ]
  },
  {
   "cell_type": "markdown",
   "metadata": {},
   "source": [
    "First, let's just see the trip duration alone"
   ]
  },
  {
   "cell_type": "code",
   "execution_count": 187,
   "metadata": {},
   "outputs": [
    {
     "data": {
      "text/plain": [
       "Text(0,0.5,'Trip counts')"
      ]
     },
     "execution_count": 187,
     "metadata": {},
     "output_type": "execute_result"
    },
    {
     "data": {
      "image/png": "[encoded data removed]",
      "text/plain": [
       "<Figure size 576x360 with 1 Axes>"
      ]
     },
     "metadata": {},
     "output_type": "display_data"
    }
   ],
   "source": [
    "# Collect all trips shorter than 1 hour\n",
    "duration_mins = df.loc[(df.tripduration / 60 < 60)][['tripduration']]\n",
    "duration_mins = duration_mins / 60 # In minutes\n",
    "\n",
    "# Plot the distribution of trip durations\n",
    "plt.rcParams.update({'font.size': 16})\n",
    "duration_mins.hist(figsize = (8,5), bins = 15, alpha = 0.5, color = 'blue')\n",
    "plt.tick_params(axis = 'both', which = 'major', labelsize = 18)\n",
    "plt.title('Distribution of trip durations\\n')\n",
    "plt.xlabel('Duration (min.)')\n",
    "plt.ylabel('Trip counts')"
   ]
  },
  {
   "cell_type": "markdown",
   "metadata": {},
   "source": [
    "The histogram shows that most trips are rather short. As duration increases the number of trips gets smaller and long trips are not very frequent.\n",
    "\n",
    "There are many interesting questions to explore using these data. In this analysis I will be focusing on comparing the different citibike stations in the network according to number of trips and their duration. The final goal is to build visualizations of total trip counts and trip duration on maps of the citibike station network.\n",
    "\n",
    "#### Temporal patterns of citibike use"
   ]
  },
  {
   "cell_type": "code",
   "execution_count": 188,
   "metadata": {},
   "outputs": [
    {
     "data": {
      "text/plain": [
       "Text(0,0.5,'Number of trips')"
      ]
     },
     "execution_count": 188,
     "metadata": {},
     "output_type": "execute_result"
    },
    {
     "data": {
      "image/png": "[encoded data removed]",
      "text/plain": [
       "<Figure size 720x432 with 1 Axes>"
      ]
     },
     "metadata": {},
     "output_type": "display_data"
    }
   ],
   "source": [
    "# Calculate trip counts per hour on weekdays and weekends\n",
    "df_sub = df.loc[:, ['tripduration', 'starttime']] # Keep only 'starttime' and 'tripduration' variables\n",
    "# Index dataframe by 'datetime64' data in 'starttime' variable\n",
    "df_sub.index = df_sub['starttime']\n",
    "weekdays = df_sub[df_sub.index.weekday < 5]\n",
    "weekends = df_sub[df_sub.index.weekday > 4]\n",
    "weekdays_countsPerHr = weekdays.groupby(weekdays.index.hour).size()\n",
    "weekends_countsPerHr = weekends.groupby(weekends.index.hour).size()\n",
    "\n",
    "\n",
    "plt.rcParams.update({'font.size': 18, 'legend.fontsize': 20})\n",
    "weekdays_countsPerHr.plot(kind = 'area', stacked = False, figsize = (10, 6), color = 'blue',\n",
    "                          linewidth = 2, label='Weekdays')\n",
    "\n",
    "weekends_countsPerHr.plot(kind = 'area', stacked = False, color = 'darkred',\n",
    "                          linewidth = 2, label='Weekends')\n",
    "\n",
    "plt.tick_params(axis = 'both', which = 'major', labelsize = 18)\n",
    "#ax = plt.gca()\n",
    "plt.title('Number of trips / hour\\n')\n",
    "plt.xlabel('Time of day (hr)')\n",
    "plt.ylabel('Number of trips')\n",
    "#legend = ax.legend(loc='upper left', frameon = False)"
   ]
  },
  {
   "cell_type": "code",
   "execution_count": 189,
   "metadata": {},
   "outputs": [
    {
     "name": "stderr",
     "output_type": "stream",
     "text": [
      "/Library/Frameworks/Python.framework/Versions/3.6/lib/python3.6/site-packages/ipykernel_launcher.py:2: FutureWarning: how in .resample() is deprecated\n",
      "the new syntax is .resample(...)..apply(<func>)\n",
      "  \n"
     ]
    },
    {
     "data": {
      "text/plain": [
       "Text(0,0.5,'Number of trips')"
      ]
     },
     "execution_count": 189,
     "metadata": {},
     "output_type": "execute_result"
    },
    {
     "data": {
      "image/png": "[encoded data removed]",
      "text/plain": [
       "<Figure size 1080x360 with 1 Axes>"
      ]
     },
     "metadata": {},
     "output_type": "display_data"
    }
   ],
   "source": [
    "df.index = df['starttime']\n",
    "countsPerDay = df.starttime.resample('D', how = ['count'])\n",
    "\n",
    "\n",
    "countsPerDay.plot(kind = 'area', stacked = False, figsize = (15, 5),\n",
    "                  color = 'blue', linewidth = 2, legend = False)\n",
    "plt.tick_params(axis = 'both', which = 'major', labelsize = 18)\n",
    "#ax = plt.gca()\n",
    "plt.title('Number of trips / day\\n')\n",
    "plt.xlabel('')\n",
    "plt.ylabel('Number of trips')"
   ]
  },
  {
   "cell_type": "code",
   "execution_count": 170,
   "metadata": {},
   "outputs": [],
   "source": [
    "#del(top5)\n",
    "#Drop NA Usertype\n",
    "df = df.dropna(subset=['usertype']) "
   ]
  },
  {
   "cell_type": "code",
   "execution_count": 172,
   "metadata": {},
   "outputs": [],
   "source": [
    "#Calculate trip duration\n",
    "TD_user = pd.DataFrame()\n",
    "TD_user['Avg. Trip Duration'] = round(df.groupby('usertype')['tripduration'].mean(),2)\n",
    "TD_user = TD_user.reset_index()\n",
    "TD_user['usertype'] = TD_user['usertype'].astype('object')"
   ]
  },
  {
   "cell_type": "code",
   "execution_count": 174,
   "metadata": {},
   "outputs": [
    {
     "data": {
      "image/png": "[encoded data removed]",
      "text/plain": [
       "<Figure size 864x504 with 1 Axes>"
      ]
     },
     "metadata": {},
     "output_type": "display_data"
    }
   ],
   "source": [
    "#Average trip Duration per User Type with Anomalies\n",
    "ax2 = sns.barplot('usertype', 'Avg. Trip Duration', data = TD_user,palette=\"GnBu_d\")\n",
    "ax2.set_title('Average Trip Duration by User Type (with anomalies)')\n",
    "#rcParams['figure.figsize'] = 12,7\n",
    "ax2.set_xticklabels(ax2.get_xticklabels(),rotation=40, ha = 'right')\n",
    "ax2.set_ylabel('Avg. Trip Duration (Seconds)')\n",
    "for index, row in TD_user.iterrows():\n",
    "    ax2.text(index,row['Avg. Trip Duration']-70,(str(row['Avg. Trip Duration'])+\"  Seconds\"), \n",
    "             color='white', ha=\"center\", fontsize = 10)\n",
    "plt.show()"
   ]
  },
  {
   "cell_type": "code",
   "execution_count": 175,
   "metadata": {},
   "outputs": [
    {
     "data": {
      "image/png": "[encoded data removed]",
      "text/plain": [
       "<Figure size 864x504 with 1 Axes>"
      ]
     },
     "metadata": {},
     "output_type": "display_data"
    }
   ],
   "source": [
    "#Boxplots are more informative to visualize breakdown of data\n",
    "del(TD_user)\n",
    "df.boxplot('tripduration', by = 'usertype')\n",
    "plt.show()"
   ]
  },
  {
   "cell_type": "code",
   "execution_count": 176,
   "metadata": {},
   "outputs": [],
   "source": [
    "#Remove anomalies based on definition above\n",
    "df = df.drop(df.index[(df['tripduration'] > 7200)])"
   ]
  },
  {
   "cell_type": "code",
   "execution_count": 177,
   "metadata": {},
   "outputs": [
    {
     "data": {
      "image/png": "[encoded data removed]",
      "text/plain": [
       "<Figure size 864x504 with 1 Axes>"
      ]
     },
     "metadata": {},
     "output_type": "display_data"
    },
    {
     "data": {
      "image/png": "[encoded data removed]",
      "text/plain": [
       "<Figure size 864x504 with 1 Axes>"
      ]
     },
     "metadata": {},
     "output_type": "display_data"
    }
   ],
   "source": [
    "#Boxplots are more informative to visualize breakdown of data\n",
    "df.boxplot('tripduration', by = 'usertype')\n",
    "plt.show()\n",
    "#Boxplot without outliers\n",
    "df.boxplot('tripduration', by = 'usertype',showfliers=False)\n",
    "plt.show()"
   ]
  },
  {
   "cell_type": "code",
   "execution_count": 178,
   "metadata": {},
   "outputs": [],
   "source": [
    "#Add Minutes column for Trip Duration\n",
    "df['Minutes'] = df['tripduration']/60\n",
    "#For Visual purposes, rounded\n",
    "df['Minutes'] = round(df['Minutes'])\n",
    "df['Minutes'] = df['Minutes'].astype(int)"
   ]
  },
  {
   "cell_type": "code",
   "execution_count": 179,
   "metadata": {},
   "outputs": [
    {
     "data": {
      "image/png": "[encoded data removed]",
      "text/plain": [
       "<Figure size 864x504 with 1 Axes>"
      ]
     },
     "metadata": {},
     "output_type": "display_data"
    },
    {
     "data": {
      "image/png": "[encoded data removed]",
      "text/plain": [
       "<Figure size 864x504 with 1 Axes>"
      ]
     },
     "metadata": {},
     "output_type": "display_data"
    }
   ],
   "source": [
    "#Final Boxplot with some outliers. Could turn of outliers with showfliers = False\n",
    "df.boxplot('Minutes', by = 'usertype')\n",
    "plt.show()\n",
    "df.boxplot('Minutes', by = 'usertype', showfliers = False)\n",
    "plt.show()"
   ]
  },
  {
   "cell_type": "code",
   "execution_count": 181,
   "metadata": {},
   "outputs": [],
   "source": [
    "TD_user2 = pd.DataFrame()\n",
    "TD_user2['Avg. Trip Duration'] = round(df.groupby('usertype')['Minutes'].mean(),1)\n",
    "TD_user2 = TD_user2.reset_index()\n",
    "TD_user2['usertype'] = TD_user2['usertype'].astype('object')"
   ]
  },
  {
   "cell_type": "code",
   "execution_count": 182,
   "metadata": {},
   "outputs": [
    {
     "data": {
      "image/png": "[encoded data removed]",
      "text/plain": [
       "<Figure size 864x504 with 1 Axes>"
      ]
     },
     "metadata": {},
     "output_type": "display_data"
    }
   ],
   "source": [
    "#Average Trip Duration Based on Minutes\n",
    "ax3 = sns.barplot('usertype', 'Avg. Trip Duration', data = TD_user2,palette=\"GnBu_d\")\n",
    "ax3.set_title('Average Trip Duration by User Type')\n",
    "#rcParams['figure.figsize'] = 12,10\n",
    "ax3.set_xticklabels(ax3.get_xticklabels(),rotation=40, ha = 'right')\n",
    "for index, row in TD_user2.iterrows():\n",
    "    ax3.text(row.name,row['Avg. Trip Duration']-1,(str(row['Avg. Trip Duration'])+\"  Minutes\"), \n",
    "             color='white', ha=\"center\", fontsize = 10)\n",
    "plt.show()"
   ]
  },
  {
   "cell_type": "code",
   "execution_count": 183,
   "metadata": {},
   "outputs": [],
   "source": [
    "del(TD_user2)\n",
    "#Undo rounding for modelling purposes\n",
    "df['Minutes'] = df['tripduration']/60"
   ]
  },
  {
   "cell_type": "markdown",
   "metadata": {},
   "source": [
    "### Part 3: Most Popular Trip\n",
    "To get most popular trips, the most convenient way to do this is by using the groupby function in pandas. It's analogous to a Pivot table. <br />\n",
    "\n",
    "The groupby function makes it extremely easy and convenient to identify the most popular trips. Visuals and transformations can be found below.<br />"
   ]
  },
  {
   "cell_type": "code",
   "execution_count": 184,
   "metadata": {},
   "outputs": [],
   "source": [
    "#Identify the 10 most popular trips\n",
    "trips_df = pd.DataFrame()\n",
    "trips_df = df.groupby(['start station name','end station name']).size().reset_index(name = 'Number of Trips')\n",
    "trips_df = trips_df.sort_values('Number of Trips', ascending = False)\n",
    "trips_df['start station name'] = trips_df['start station name'].astype(str)\n",
    "trips_df[\"end station name\"] = trips_df[\"end station name\"].astype(str)\n",
    "trips_df['Trip'] = trips_df['start station name'] + \" to \" + trips_df['end station name']\n",
    "trips_df = trips_df[:10]\n",
    "trips_df = trips_df.drop(['start station name', \"end station name\"], axis = 1)\n",
    "trips_df = trips_df.reset_index()\n",
    "#trips_df.head()"
   ]
  },
  {
   "cell_type": "code",
   "execution_count": 185,
   "metadata": {},
   "outputs": [
    {
     "data": {
      "image/png": "[encoded data removed]",
      "text/plain": [
       "<Figure size 864x504 with 1 Axes>"
      ]
     },
     "metadata": {},
     "output_type": "display_data"
    }
   ],
   "source": [
    "ax4 = sns.barplot('Number of Trips','Trip', data = trips_df,palette=\"GnBu_d\")\n",
    "ax4.set_title('Most Popular Trips', fontsize = 20)\n",
    "ax4.set_ylabel(\"Trip\",fontsize=16)\n",
    "ax4.set_xlabel(\"Number of Trips\",fontsize=16)\n",
    "for index, row in trips_df.iterrows():\n",
    "    ax4.text(row['Number of Trips']-220,index,row['Number of Trips'], \n",
    "             color='white', ha=\"center\",fontsize = 10)\n",
    "plt.show()"
   ]
  },
  {
   "cell_type": "markdown",
   "metadata": {},
   "source": [
    "### Part 4: Rider Performance by Gender and Age\n",
    "\n",
    "**Ask:** Rider performance by Gender and Age based on avg trip distance (station to station), median speed (trip duration/distance traveled)<br />\n",
    "\n",
    "Let's make sure the data we're working with here is clean.<br />\n",
    "\n",
    "1. Missing Gender and Birth Year values - Check missing_table above\n",
    "    - No for Gender. Yes for Birth Year\n",
    "    - ~10% Missing Birth year. Not a big chunk of data. Can either impute missing values or drop it. Since it's less                                         than 10% of the data, it's safe to assume the rest of the 90% is a representative sample of data and we can replace the birth year with the median, based on gender and Start Station ID. I chose this method because most people the same age live in similar neighborhoods (i.e: young people in east village, older people in Upper West Side, etc.). This will be done after anomalies are removed and speed is calculated.\n",
    "2. Are there anomalies?\n",
    "    - For Birth Year, there are some people born prior to 1956. I can believe some 60 year olds can ride a bike and that's a stretch, however, anyone \"born\" prior to that riding a citibike is an anomaly and false data. There could be a few senior citizens riding a bike, but probably not likely.\n",
    "    - My approach is to identify the age 2 standard deviations lower than the mean. After calculating this number, mean-2stdev, I removed the tail end of the data, birth year prior to 1956.\n",
    "3. Caulculate an Age column to make visuals easier to interpret.\n",
    "4. Calculate trip distance (Miles)\n",
    "    - No reliable way to calculate bike route since we can't know what route a rider took without GPS data from each bike. \n",
    "    - Could use Google maps and use lat,long coordinates to find bike route distance. However, this would require more than the daily limit on API calls. Use the geopy.distance packge which uses Vincenty distance uses more accurate ellipsoidal models. This is more accurate than Haversine formula, but doesn't matter much for our purposes.\n",
    "5. Caulculate Speed (min/mile) and (mile/hr)\n",
    "    - (min/mile): Can be used like sprint time (how fast does this person run)\n",
    "    - (mile/hr): Conventional approach. Miles/hour is an easy to understand unit of measure and one most people are used to seeing. So the visual will be created based on this understanding.\n",
    "6. Dealing with \"circular\" trips\n",
    "    - Circular trips are trips which start and end at the same station. The distance for these trips will come out to 0, however, that is not the case. These points will skew the data and visuals. Will be removing them to account for this issue. \n",
    "    - For the model, this data is also irrelevant. Because if someone is going on a circular trip, the only person who knows how long the trip is going to take is therider themself, assuming they know that. So it's safe to drop this data for the model. <br />\n",
    "7. Rename Gender Values in Legend from 0,1,2 to Unknown, Male, Female, respectively. \n",
    "    - The rows where Gender is unknown throws the visual off. There are a few ways to handle this: \n",
    "      - Remove the missing data. This would not result in a significant loss of information since only 58073 rows have gender as unknown.\n",
    "       - We can impute missing values, however given the proportion of unknowns the information gain would be negligible.\n",
    "       - Based on the reasons above, I've decided to remove data with unknown gender. These rows should not have a  significant imact on the predictive model later on. However, I will confirm this.\n",
    "8. Determine Gender and Age performance based on Average Trip distance<br />\n",
    "    - Similar to graphs for speed. Pretty straightforward."
   ]
  },
  {
   "cell_type": "code",
   "execution_count": 190,
   "metadata": {},
   "outputs": [],
   "source": [
    "del(trips_df)\n",
    "#Drop the tail end of birth years 2 standard deviations below the mean\n",
    "#df['Birth Year'].mean()-(2*df['Birth Year'].std())\n",
    "df = df.drop(df.index[(df['birth year'] < 1956)])"
   ]
  },
  {
   "cell_type": "code",
   "execution_count": 191,
   "metadata": {},
   "outputs": [
    {
     "name": "stderr",
     "output_type": "stream",
     "text": [
      "/Library/Frameworks/Python.framework/Versions/3.6/lib/python3.6/site-packages/ipykernel_launcher.py:3: SettingWithCopyWarning: \n",
      "A value is trying to be set on a copy of a slice from a DataFrame.\n",
      "Try using .loc[row_indexer,col_indexer] = value instead\n",
      "\n",
      "See the caveats in the documentation: http://pandas.pydata.org/pandas-docs/stable/indexing.html#indexing-view-versus-copy\n",
      "  This is separate from the ipykernel package so we can avoid doing imports until\n",
      "/Library/Frameworks/Python.framework/Versions/3.6/lib/python3.6/site-packages/ipykernel_launcher.py:5: SettingWithCopyWarning: \n",
      "A value is trying to be set on a copy of a slice from a DataFrame.\n",
      "Try using .loc[row_indexer,col_indexer] = value instead\n",
      "\n",
      "See the caveats in the documentation: http://pandas.pydata.org/pandas-docs/stable/indexing.html#indexing-view-versus-copy\n",
      "  \"\"\"\n"
     ]
    }
   ],
   "source": [
    "#Combine coordinates to calculate distance based on Vincenty\n",
    "df['Start Coordinates'] = list(zip(df['start station latitude'], \n",
    "                                   df['start station latitude']))\n",
    "df['End Coordinates'] = list(zip(df['end station latitude'], \n",
    "                                 df['end station latitude']))"
   ]
  },
  {
   "cell_type": "code",
   "execution_count": 196,
   "metadata": {},
   "outputs": [],
   "source": [
    "#In the future, for a dataset of this size, I would consider using the Haversine formula to calculate distance \n",
    "#if it's faster.\n",
    "#import geopy\n",
    "#from geopy.distance import vincenty\n",
    "#dist = []\n",
    "#for i in range(len(df)):\n",
    "#    dist.append(geopy.distance.vincenty(df.iloc[i]['Start Coordinates'],df.iloc[i]['End Coordinates']).miles)\n",
    "#    if (i%1000000==0):\n",
    "#        print(i)\n",
    "\n",
    "#Code above takes a long time to run, use Distance.csv file instead\n",
    "dist = pd.read_csv('Distance.csv', header = None)\n",
    "dist = dist.drop([0], axis = 1)"
   ]
  },
  {
   "cell_type": "code",
   "execution_count": null,
   "metadata": {},
   "outputs": [],
   "source": [
    "#Reset Index to avoid issues in future calculations\n",
    "df = df.reset_index()\n",
    "df = df.drop('index',axis =1)\n",
    "df['Distance'] = dist"
   ]
  },
  {
   "cell_type": "code",
   "execution_count": null,
   "metadata": {},
   "outputs": [],
   "source": [
    "del(dist)\n",
    "#Replace missing birth year by median based on speed and gender\n",
    "df['birth year'] = df.groupby(['gender','start station id'])['birth year'].transform(lambda x: x.fillna(x.median()))"
   ]
  },
  {
   "cell_type": "code",
   "execution_count": null,
   "metadata": {},
   "outputs": [],
   "source": [
    "#Still have a few nulls, but it's only 2342 entries now. Comfortable dropping these.\n",
    "df = df.dropna(subset=['birth year'])\n",
    "\n",
    "#Calculate age and drop circular/roundtrips\n",
    "df['Age'] = 2018 - df['birth year']\n",
    "df['Age'] = df['Age'].astype(int)\n",
    "\n",
    "df = df.drop(df.index[(df['Distance'] == 0)])"
   ]
  },
  {
   "cell_type": "code",
   "execution_count": null,
   "metadata": {},
   "outputs": [],
   "source": [
    "#2. Followed the same reasoning as behind Birth Year. \n",
    "# People in similar locations tend to also work in a similar industry or location\n",
    "df['Distance'] = df.groupby(['gender','start station id'])['Distance'].transform(lambda x: x.fillna(x.median()))\n"
   ]
  },
  {
   "cell_type": "code",
   "execution_count": null,
   "metadata": {},
   "outputs": [],
   "source": [
    "df['min_mile'] = round(df['Minutes']/df['Distance'], 2)\n",
    "df['mile_hour'] = round(df['Distance']/(df['Minutes']/60),2)"
   ]
  },
  {
   "cell_type": "code",
   "execution_count": null,
   "metadata": {},
   "outputs": [],
   "source": [
    "round(df.describe(),2)"
   ]
  },
  {
   "cell_type": "markdown",
   "metadata": {},
   "source": [
    "### Observations\n",
    "- We still have trips less than 90 seconds, however they seem to be legitimate trips. Checked using the code in cell above. \n",
    "- We have some Start Coordinates as (0.0,0.0). These are trips which were taken away for repair or for other purposes. These should be dropped. If kept, the distance for these trips is 5,389 miles. For this reason I've dropped any points where the distance is greater than 30 miles. Additionally, we have some missing values. Since it's a tiny portion, let's replace missing values based on Gender and start location. These\n",
    "- One some trips, the speed of the biker is more than 200 mph. This could be due to the formula used for distance calculation or some other error. The fastest cyclist in the world on a flat surface ever recorded biked at 82mph. It's safe to assume none of the citibike riders can approach this speed. Due to this and the fact that an average cyclist speed is 10mph, I've decided to remove all data where the speed in mph is greater than 20 mph and less than 0.1 mph. ~1.5k data points"
   ]
  },
  {
   "cell_type": "code",
   "execution_count": null,
   "metadata": {},
   "outputs": [],
   "source": [
    "df = df[df['Distance'] < 30]"
   ]
  },
  {
   "cell_type": "code",
   "execution_count": null,
   "metadata": {},
   "outputs": [],
   "source": [
    "#3.1-Done in two steps to ensure data integrity, could've used an or statement as well.\n",
    "df = df[df['mile_hour']<20]\n",
    "#3.2\n",
    "df = df[df['mile_hour']> (df['mile_hour'].mean()-(2*df['mile_hour'].std()))]"
   ]
  },
  {
   "cell_type": "code",
   "execution_count": null,
   "metadata": {},
   "outputs": [],
   "source": [
    "#Dropping unknown to make the visual more informative. \n",
    "#Unknown gender may be important for the model, which is why I created a copy of the original dataframe.\n",
    "df1 = df.drop(df.index[(df['gender'] == 0)])"
   ]
  },
  {
   "cell_type": "code",
   "execution_count": null,
   "metadata": {},
   "outputs": [],
   "source": [
    "#Rider performance by age and Gender in Min/Mile \n",
    "fig, ax5 = plt.subplots(figsize=(11,5))\n",
    "df1.groupby(['Age','gender']).median()['min_mile'].unstack().plot(ax=ax5, color =\"bg\")\n",
    "ax5.legend(['Female','Male'])\n",
    "plt.ylabel('Median Speed (min/mile)')\n",
    "plt.title('Rider Performance Based on Gender and Age (Median Speed in min/mile)')\n",
    "plt.show()"
   ]
  },
  {
   "cell_type": "code",
   "execution_count": null,
   "metadata": {},
   "outputs": [],
   "source": [
    "#Rider performance by age and Gender in Miles/hr\n",
    "#del([fig,ax5])\n",
    "fig1, ax6 = plt.subplots(figsize=(11,5))\n",
    "df1.groupby(['Age','gender']).median()['mile_hour'].unstack().plot(ax=ax6,color =\"bg\")\n",
    "ax6.legend(['Female', 'Male'])\n",
    "plt.ylabel('Median Speed (miles/hr)')\n",
    "plt.title('Rider Performance Based on Gender and Age (Median Speed in miles/hr)')\n",
    "plt.show()"
   ]
  },
  {
   "cell_type": "code",
   "execution_count": null,
   "metadata": {},
   "outputs": [],
   "source": [
    "#Rider performance by age and Gender in Averge Distance\n",
    "#del([fig1,ax6])\n",
    "fig2, ax7 = plt.subplots(figsize=(11,5))\n",
    "df1.groupby(['Age','gender']).mean()['Distance'].unstack().plot(ax=ax7,color =\"bg\")\n",
    "ax7.legend(['Female', 'Male'])\n",
    "plt.ylabel('Average Distance (miles)')\n",
    "plt.title('Rider Performance Based on Gender and Age (Average Distance in Miles)')\n",
    "plt.show()"
   ]
  },
  {
   "cell_type": "markdown",
   "metadata": {},
   "source": [
    "### Part 5: Busiest Bike by Times and Minutes Used\n",
    "*Ask:* \n",
    " 1. What is the busiest bike in NYC in 2017? \n",
    "    - Bike 25738\n",
    " 2. How many times was it used?\n",
    "     - 2355 times\n",
    " 3. How many minutes was it in use?\n",
    "      - 31,340 Minutes\n",
    "\n",
    "- Busiest bike and count can be identified by a groupby function\n",
    "- Function above will also identify the number of times the bike was used\n",
    "- A similar groupby function which calls for the sum on minutes can identify the number of minutes the bike was used. "
   ]
  },
  {
   "cell_type": "code",
   "execution_count": null,
   "metadata": {},
   "outputs": [],
   "source": [
    "#Bike usage based on number of times used\n",
    "#del(df1)\n",
    "bike_use_df = pd.DataFrame()\n",
    "bike_use_df = df.groupby(['bikeid']).size().reset_index(name = 'Number of Times Used')\n",
    "bike_use_df = bike_use_df.sort_values('Number of Times Used', ascending = False)\n",
    "#bike_use_df.to_csv('Q5.csv')\n",
    "bike_use_df = bike_use_df[:10]\n",
    "bike_use_df['bikeid'] = bike_use_df['bikeid'].astype(str)\n",
    "bike_use_df['bikeid'] = ('Bike ' + bike_use_df['bikeid'])\n",
    "bike_use_df = bike_use_df.reset_index()\n",
    "#bike_use_df.head()"
   ]
  },
  {
   "cell_type": "code",
   "execution_count": null,
   "metadata": {},
   "outputs": [],
   "source": [
    "#Visual of most used bike based on Number of Trips\n",
    "ax8 = sns.barplot('Number of Times Used', 'bikeid',data = bike_use_df, palette=\"GnBu_d\")\n",
    "ax8.set_title('Most Popular Bikes by Number of Times Used')\n",
    "for index, row in bike_use_df.iterrows():\n",
    "    ax8.text(row['Number of Times Used']-90,index,row['Number of Times Used'], color='white', ha=\"center\", fontsize =10)\n",
    "plt.show()"
   ]
  },
  {
   "cell_type": "code",
   "execution_count": null,
   "metadata": {},
   "outputs": [],
   "source": [
    "#Bike usage based on minutes used\n",
    "#del(ax8)\n",
    "bike_min_df = pd.DataFrame()\n",
    "bike_min_df['Minutes Used'] = df.groupby('bikeid')['Minutes'].sum()\n",
    "bike_min_df = bike_min_df.reset_index()\n",
    "bike_min_df = bike_min_df.sort_values('Minutes Used', ascending = False)\n",
    "bike_min_df['bikeid'] = bike_min_df['bikeid'].astype(str)\n",
    "bike_min_df['bikeid'] = ('Bike ' + bike_min_df['bikeid'])\n",
    "bike_min_df = bike_min_df[:10]\n",
    "bike_min_df = bike_min_df.reset_index()\n",
    "#bike_min_df.head()"
   ]
  },
  {
   "cell_type": "code",
   "execution_count": null,
   "metadata": {},
   "outputs": [],
   "source": [
    "#Visual of most used bike based on number of minutes used\n",
    "ax9 = sns.barplot('Minutes Used', 'bikeid',data = bike_min_df, palette=\"GnBu_d\")\n",
    "ax9.set_title('Most Popular Bikes by Minutes Used')\n",
    "rcParams['figure.figsize'] = 11,6\n",
    "for index, row in bike_min_df.iterrows():\n",
    "    ax9.text(row['Minutes Used']-2800,index,str(round(row['Minutes Used'],2))+' Minutes', \n",
    "             color='white', ha=\"center\")\n",
    "plt.show()"
   ]
  },
  {
   "cell_type": "markdown",
   "metadata": {},
   "source": [
    "### Part 6.1: Predictive Model - Baseline Model\n",
    "Ask: Build a model that can predict how long a trip will take given a starting \n",
    "     point and destination. \n",
    "\n",
    "***Assumptions on how the Kiosk will work:*** After speaking to Daniel Yawitz (if you're \n",
    "looking at this, thanks for the clarification), I was told that we should assume that when\n",
    "a user inputs the start and end station, they swipe their key fob (if they're a subscriber)\n",
    "and enter their info on the kiosk (if they're a \"Customer\") prior to entering the start \n",
    "and end station. This means that we would know their gender and age. Thus these variables\n",
    "can be used in building the model.\n",
    "\n",
    "Step 1.  \n",
    "   - This dataset is massive. Almost 14 million rows. Let's work on a *random* subsample while we build and evaluate models. If I tried to build and evaluate a model on the entire dataset, each run would take me ~10+ minutes depending on the model. One good way to decide what portion of your data to work with is using a learning curve. However, my kernel keeps crashing while trying to create that learning curve. However, given the size of the data and from experience by working with senior data scientists on projects with BAML and other firms I know that I can comfortably work with a few thoushand rows of data given the fact that this is only one year of data. If we were working with data for multiple years, I'd need to reconsider this approach. However, given the reasons above, I've decided to sample 10% of the data. It's stil ~1.3 million rows and should be a representative sample since it's randomly selected. I'll be evaluating my model on df_sample.\n",
    "  - I also made the same visuals on the sample to visualize the data.\n",
    "          \n",
    "          \n",
    "Step 2. \n",
    "  - Let's get a baseline. If I were to just run a simple multi-variate linear regression, what would my model look like and how accurate would it be? Need to prepare the data for a multivariate regression\n",
    "      1. Drop irrelevant columns\n",
    "           - Trip Duration: We have the minutes column, which is the target variable\n",
    "            - Stop Time: In the real world, we won't have this information when predicting the trip duration.\n",
    "             - Start Station ID: Start Station Name captures this information\n",
    "            - Start Station Latitude: Start Station Name captures this information\n",
    "            - Start Station Longitude: Start Station Name captures this information\n",
    "            - Start Coordinates: Start Station Name captures this information\n",
    "            - End Station ID: End Station Name captures this information\n",
    "           - End Station Latitude: End Station Name captures this information\n",
    "            - End Station Longitude: End Station Name captures this information\n",
    "            - End Coordinates: End Station Name captures this information\n",
    "             - Bike Id: We won't know what bike the user is going to end up using\n",
    "             - Min_Mile: Effectively the same information as end time when combined with distance. We won't have this information in the real world.\n",
    "             - mile_hour: Effectively the same information as end time when combined with distance. We won't have this information in the real world.\n",
    "                    (Speed * Distance = Trip Duration): Which is why speed is dropped\n",
    "             - Birth Year: Age captures this information\n",
    "             - Start Station Name and End Station Name: The distance variable captures the same information. For the model, if a user is inputting start and end station, we can build a simple function to calculate the distance which would capture the same information.\n",
    "      2. Basic cleaning of data FOR NOW.This is only being done for the baseline model\n",
    "          - Start Time: Requires reformatting. Will do this after baseline model\n",
    "           - Dumify categorical variables\n",
    "            - Scale Age\n",
    "            - Don't scale distance, since it does not just represent distance, but is also indicative of the trip the rider is making (start and station)\n",
    "      3. Anomalies in Trip Duration\n",
    "          - I'm going to come back to an observation from earlier. Any trip which lasts longer than *45 minutes(2,700 seconds)* probably indicates a stolen bike, incorrect docking of the bike, or an anomaly. No rider would plan to go over the maximum 45 minutes allowed. Additionally, there are only ~200k rows where the trips last longer than 45 minutes. That is less than 1% of the data and can be considered anomalies. Even if we include it, the model won't be able to learn from it due to the small sample. Lastly, as an avid Citibike user, I know first hand that it doesn't make any sense for one to use a bike for more than 45 minutes! The only way a trip actually lasts more than 45 minutes is if a user couldn't find a dock at their desired station. \n",
    "\n",
    "- Age was removed after an initial run indicated it had no effect on the model. This was also clearly indicated in some of the visuals above. Reasons for not binning age are in section 6.3."
   ]
  },
  {
   "cell_type": "code",
   "execution_count": null,
   "metadata": {},
   "outputs": [],
   "source": [
    "round(df.describe(),2)"
   ]
  },
  {
   "cell_type": "code",
   "execution_count": null,
   "metadata": {},
   "outputs": [],
   "source": [
    "### Observations\n",
    "- We have some unreasonable speeds in min_mile column, but that's fine. Some people may have walked with their bike or stopped at multiple destinations before docking.\n",
    "- The sample data below seems to be representative of the entire dataset above."
   ]
  },
  {
   "cell_type": "code",
   "execution_count": null,
   "metadata": {},
   "outputs": [],
   "source": [
    "#Cleaning up anomalies\n",
    "df = df.drop(df.index[(df['tripduration'] > 2700)])"
   ]
  },
  {
   "cell_type": "code",
   "execution_count": null,
   "metadata": {},
   "outputs": [],
   "source": [
    "#Let's work with a random sample of the data and inspect it thoroughly to ensure it's representative\n",
    "df_sample = df.sample(frac = 0.1, random_state = 0)\n",
    "#round(df_sample.describe(),2)"
   ]
  },
  {
   "cell_type": "code",
   "execution_count": null,
   "metadata": {},
   "outputs": [],
   "source": []
  },
  {
   "cell_type": "code",
   "execution_count": null,
   "metadata": {},
   "outputs": [],
   "source": [
    "#Drop Irrelevant data\n",
    "def drop_data(df):\n",
    "    df = df.drop(['tripduration','stoptime', 'start station id','start station name',\n",
    "                  'start station latitude','start station longitude','bikeid', 'birth year',\n",
    "                  'Start Coordinates','end station id','end station name', \n",
    "                  'end station latitude', 'end station longitude','End Coordinates',\n",
    "                  'min_mile','mile_hour','Age'], axis = 1)\n",
    "    return df\n",
    "\n",
    "df_basemodel = drop_data(df_sample)"
   ]
  },
  {
   "cell_type": "code",
   "execution_count": null,
   "metadata": {},
   "outputs": [],
   "source": [
    "df_basemodel = df_basemodel.drop('Start Time', axis =1)"
   ]
  },
  {
   "cell_type": "code",
   "execution_count": null,
   "metadata": {},
   "outputs": [],
   "source": [
    "#Dummify categorical data and avoid dummy variable trap\n",
    "df_basemodel = pd.get_dummies(df_basemodel, drop_first = True)"
   ]
  },
  {
   "cell_type": "code",
   "execution_count": null,
   "metadata": {},
   "outputs": [],
   "source": [
    "df_basemodel.corr().loc[:,'Minutes']"
   ]
  },
  {
   "cell_type": "code",
   "execution_count": null,
   "metadata": {},
   "outputs": [],
   "source": [
    "#Train Test Split\n",
    "#Predictor variable\n",
    "X = df_basemodel.iloc[:,1:]\n",
    "#Target variable\n",
    "y = df_basemodel.iloc[:,0]\n",
    "\n",
    "from sklearn.cross_validation import train_test_split\n",
    "X_train, X_test, y_train, y_test = train_test_split(X, y, test_size = 0.2, random_state = 0)\n"
   ]
  },
  {
   "cell_type": "code",
   "execution_count": null,
   "metadata": {},
   "outputs": [],
   "source": [
    "#Fit Linear Regression and check accuracy using sklearn\n",
    "from sklearn.linear_model import LinearRegression\n",
    "regressor = LinearRegression()\n",
    "regressor.fit(X_train, y_train)\n",
    "regressor.score(X_test,y_test)"
   ]
  },
  {
   "cell_type": "code",
   "execution_count": null,
   "metadata": {},
   "outputs": [],
   "source": [
    "#Using Statsmodel because it has the summary function.\n",
    "import statsmodels.api as sm\n",
    "X_train = sm.add_constant(X_train)\n",
    "X_test = sm.add_constant(X_test)\n",
    "regressor_OLS = sm.OLS(y_train, X_train).fit()\n",
    "regressor_OLS.summary()"
   ]
  },
  {
   "cell_type": "markdown",
   "metadata": {},
   "source": [
    "**Baseline Model:** \n",
    "\n",
    "Adjusted R^2 and R^2 = 56.5% (depending on random_state)<br>        \n",
    "The baseline model is ok, but nothing spectacular. The R_Squared and Adjusted R_Squared is pretty much the same, 53.6%. The F-Stat is also 0.00 which is a good sign. The gender female's p-value is high, however, we can't loose this information due to the fact that this is a categoricalvariable and we'd be loosing substantial information by dropping it.\n",
    "\n",
    "\n",
    "### Linear Regression:\n",
    "Predictors: Distance, Gender, Average Duration based on Trip and Gender, User Type"
   ]
  },
  {
   "cell_type": "code",
   "execution_count": null,
   "metadata": {},
   "outputs": [],
   "source": [
    "def prep_data(df):\n",
    "    df = get_speed_distance(df)\n",
    "    df = drop_data(df)\n",
    "    df = get_date_info(df)\n",
    "    df = df.drop(['Start Time','Trip','m_yr',], axis =1)\n",
    "    return df\n",
    "\n",
    "df_final = prep_data(df)"
   ]
  },
  {
   "cell_type": "code",
   "execution_count": null,
   "metadata": {},
   "outputs": [],
   "source": [
    "#Dummify categorical data and avoid dummy variable trap\n",
    "df_final = pd.get_dummies(df_final, drop_first = True)\n",
    "\n",
    "#Scale Continuous variables\n",
    "from sklearn.preprocessing import StandardScaler\n",
    "sc_m1 = StandardScaler()\n",
    "df_final['avg_duration'] = sc_m1.fit_transform(df_final[['avg_duration']])\n",
    "sc_m1 = StandardScaler()\n",
    "df_final['avg_speed'] = sc_m1.fit_transform(df_final[['avg_speed']])"
   ]
  },
  {
   "cell_type": "code",
   "execution_count": null,
   "metadata": {},
   "outputs": [],
   "source": [
    "#Train Test Split\n",
    "#Predictor variable\n",
    "X = df_final.iloc[:,1:]\n",
    "#Target variable\n",
    "y = df_final.iloc[:,0]\n",
    "#Split\n",
    "#from sklearn.cross_validation import train_test_split\n",
    "X_train, X_test, y_train, y_test = train_test_split(X, y, test_size = 0.2, random_state = 0)"
   ]
  },
  {
   "cell_type": "code",
   "execution_count": null,
   "metadata": {},
   "outputs": [],
   "source": [
    "#Fit Linear Regression and check accuracy using sklearn\n",
    "from sklearn.linear_model import LinearRegression\n",
    "regressor = LinearRegression()\n",
    "regressor.fit(X_train, y_train)\n",
    "regressor.score(X_test,y_test)"
   ]
  },
  {
   "cell_type": "code",
   "execution_count": null,
   "metadata": {},
   "outputs": [],
   "source": [
    "#Using Statsmodel because it has the summary function.\n",
    "import statsmodels.api as sm\n",
    "X_train = sm.add_constant(X_train)\n",
    "X_test = sm.add_constant(X_test)\n",
    "regressor_OLS = sm.OLS(y_train, X_train).fit()\n",
    "regressor_OLS.summary()"
   ]
  },
  {
   "cell_type": "code",
   "execution_count": null,
   "metadata": {},
   "outputs": [],
   "source": [
    "#Ensure model accuracy with cross validation\n",
    "from sklearn.model_selection import cross_val_score\n",
    "scores = cross_val_score(regressor, X_train, y_train, cv=5)\n",
    "print('CV accuracy: %.3f +/- %.3f' % (np.mean(scores), np.std(scores)))"
   ]
  }
 ],
 "metadata": {
  "kernelspec": {
   "display_name": "Python 3",
   "language": "python",
   "name": "python3"
  },
  "language_info": {
   "codemirror_mode": {
    "name": "ipython",
    "version": 3
   },
   "file_extension": ".py",
   "mimetype": "text/x-python",
   "name": "python",
   "nbconvert_exporter": "python",
   "pygments_lexer": "ipython3",
   "version": "3.6.6"
  }
 },
 "nbformat": 4,
 "nbformat_minor": 1
}
